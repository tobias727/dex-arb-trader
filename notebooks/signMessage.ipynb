{
 "cells": [
  {
   "cell_type": "code",
   "execution_count": null,
   "id": "a5eb59cb",
   "metadata": {},
   "outputs": [
    {
     "name": "stdout",
     "output_type": "stream",
     "text": [
      "Signed message: @tobias727\n",
      "Signature: 5cb0d7f1c6d847c241afb4da3ed30cf7e1e757c26307755f930acc584676f3245fce84d156a92732bd333a17e0c94191e1d05098e6bd19223831c68af62d70821c\n",
      "Transaction hash: 0x53a84545ff619f2d409b3fff9ffc329987431e38c874aeecc039c01daf1332ea\n"
     ]
    }
   ],
   "source": [
    "from web3 import Web3\n",
    "from eth_account import Account\n",
    "import os\n",
    "from eth_account.messages import encode_defunct\n",
    "\n",
    "w3 = Web3(Web3.HTTPProvider(\"https://eth-sepolia.g.alchemy.com/v2/bi4Z9RRz0dakXFpoiD6gIAmbbFucUN5G\"))\n",
    "\n",
    "private_key = \"\"\n",
    "account = Account.from_key(private_key)\n",
    "from_address = account.address\n",
    "\n",
    "message = \"\" #\n",
    "encoded_msg = encode_defunct(text=message)\n",
    "signed_message = Account.sign_message(encoded_msg, private_key)\n",
    "\n",
    "print(f\"Signed message: {message}\")\n",
    "print(f\"Signature: {signed_message.signature.hex()}\")\n",
    "\n",
    "nonce = w3.eth.get_transaction_count(from_address)\n",
    "tx = {\n",
    "    'nonce': nonce,\n",
    "    'to': from_address,  # send to self\n",
    "    'value': 0,\n",
    "    'gas': 25000,\n",
    "    'gasPrice': w3.to_wei('10', 'gwei'),\n",
    "    'data': message.encode('utf-8')\n",
    "}\n",
    "\n",
    "signed_tx = w3.eth.account.sign_transaction(tx, private_key)\n",
    "tx_hash = w3.eth.send_raw_transaction(signed_tx.raw_transaction)\n",
    "\n",
    "print(f\"Transaction hash: {w3.to_hex(tx_hash)}\")"
   ]
  },
  {
   "cell_type": "code",
   "execution_count": null,
   "id": "4f5439b4",
   "metadata": {},
   "outputs": [],
   "source": []
  }
 ],
 "metadata": {
  "kernelspec": {
   "display_name": ".venv (3.12.3)",
   "language": "python",
   "name": "python3"
  },
  "language_info": {
   "codemirror_mode": {
    "name": "ipython",
    "version": 3
   },
   "file_extension": ".py",
   "mimetype": "text/x-python",
   "name": "python",
   "nbconvert_exporter": "python",
   "pygments_lexer": "ipython3",
   "version": "3.12.3"
  }
 },
 "nbformat": 4,
 "nbformat_minor": 5
}
