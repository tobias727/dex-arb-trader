{
 "cells": [
  {
   "cell_type": "code",
   "execution_count": null,
   "id": "9acc0237",
   "metadata": {},
   "outputs": [],
   "source": [
    "import os\n",
    "import sys\n",
    "sys.path.append(os.path.abspath(\"..\")) # set working dir\n",
    "\n",
    "from web3 import Web3\n",
    "from src.config import ALCHEMY_API_KEY\n",
    "\n",
    "ETHEREUM_RPC_URL = f\"https://eth-mainnet.g.alchemy.com/v2/{ALCHEMY_API_KEY}\"\n",
    "w3 = Web3(Web3.HTTPProvider(ETHEREUM_RPC_URL))\n",
    "print(w3.is_connected()) # check connection\n",
    "latest_block = w3.eth.get_block(\"latest\")\n",
    "print(latest_block) # latest block"
   ]
  },
  {
   "cell_type": "markdown",
   "id": "3fef6cc4",
   "metadata": {},
   "source": [
    "# Setup"
   ]
  },
  {
   "cell_type": "code",
   "execution_count": null,
   "id": "905a1818",
   "metadata": {},
   "outputs": [],
   "source": [
    "from src.utils.retrieveAbi import save_abi_to_file\n",
    "from src.config import MAINNET_UNISWAP_V2_ROUTER_02, MAINNET_SUSHISWAP_ROUTER_ADDRESS, CHAINID_MAINNET\n",
    "\n",
    "# Load ABIs\n",
    "save_abi_to_file(MAINNET_UNISWAP_V2_ROUTER_02) # uniswap v2 router abi\n",
    "save_abi_to_file(MAINNET_SUSHISWAP_ROUTER_ADDRESS) # sushiswap router abi"
   ]
  },
  {
   "cell_type": "markdown",
   "id": "b7a83d01",
   "metadata": {},
   "source": [
    "# Contract Interactions"
   ]
  },
  {
   "cell_type": "code",
   "execution_count": null,
   "id": "b40a2276",
   "metadata": {},
   "outputs": [],
   "source": [
    "import time\n",
    "from src.utils.retrieveAbi import load_abi\n",
    "\n",
    "def get_amounts_out(token1_address, token2_address, amount_in, router_contract):\n",
    "    \"\"\"Uses w3 getAmountsOut function to return amounts out, given two tokens, router contract and amount in\"\"\"\n",
    "    token1_address = Web3.to_checksum_address(token1_address)\n",
    "    token2_address = Web3.to_checksum_address(token2_address)\n",
    "    path = [token1_address, token2_address]\n",
    "    amounts_out = router_contract.functions.getAmountsOut(amount_in, path).call()\n",
    "    return w3.from_wei(amounts_out[-1], 'ether')"
   ]
  },
  {
   "cell_type": "code",
   "execution_count": null,
   "id": "30a2c7c5",
   "metadata": {},
   "outputs": [],
   "source": [
    "# uniswap\n",
    "uniswap_router_abi = load_abi(MAINNET_UNISWAP_V2_ROUTER_02, CHAINID_MAINNET)\n",
    "uniswap_router_address = Web3.to_checksum_address(MAINNET_UNISWAP_V2_ROUTER_02)\n",
    "uniswap_router_contract = w3.eth.contract(address=uniswap_router_address, abi=uniswap_router_abi)\n",
    "uniswap_weth_address = \"0xC02aaa39b223FE8D0A0e5C4F27eAD9083C756Cc2\"\n",
    "uniswap_dai_address = \"0x6B175474E89094C44Da98b954EedeAC495271d0F\"\n",
    "uniswap_amount_in = w3.to_wei(1, \"ether\")\n",
    "\n",
    "# sushiswap\n",
    "sushiswap_router_abi = load_abi(MAINNET_SUSHISWAP_ROUTER_ADDRESS, CHAINID_MAINNET)\n",
    "sushiswap_router_address = Web3.to_checksum_address(MAINNET_SUSHISWAP_ROUTER_ADDRESS)\n",
    "sushiswap_router_contract = w3.eth.contract(address=sushiswap_router_address, abi=sushiswap_router_abi)\n",
    "sushiswap_weth_address = \"0xC02aaa39b223FE8D0A0e5C4F27eAD9083C756Cc2\"\n",
    "sushiswap_dai_address = \"0x6B175474E89094C44Da98b954EedeAC495271d0F\"\n",
    "sushiswap_amount_in = w3.to_wei(1, \"ether\")\n",
    "\n",
    "try:\n",
    "    prev_block=0\n",
    "    while True:\n",
    "        block = w3.eth.block_number\n",
    "        uniswap_amount_out = get_amounts_out(uniswap_weth_address, uniswap_dai_address, uniswap_amount_in, uniswap_router_contract)\n",
    "        sushiswap_amount_out = get_amounts_out(sushiswap_weth_address, sushiswap_dai_address, sushiswap_amount_in, sushiswap_router_contract)\n",
    "        if block > prev_block:\n",
    "            print(f\"Block {block} | Uniswap: 1 ETH ≈ {uniswap_amount_out} DAI | Sushiswap: 1 ETH ≈ {sushiswap_amount_out} | Delta = {uniswap_amount_out-sushiswap_amount_out}\")\n",
    "            prev_block = block\n",
    "        time.sleep(1)\n",
    "except KeyboardInterrupt:\n",
    "    print(\"Stopped by user.\")"
   ]
  },
  {
   "cell_type": "markdown",
   "id": "31b60895",
   "metadata": {},
   "source": [
    "# Binance API"
   ]
  },
  {
   "cell_type": "code",
   "execution_count": 1,
   "id": "9c0a31fb",
   "metadata": {},
   "outputs": [
    {
     "data": {
      "text/html": [
       "<div>\n",
       "<style scoped>\n",
       "    .dataframe tbody tr th:only-of-type {\n",
       "        vertical-align: middle;\n",
       "    }\n",
       "\n",
       "    .dataframe tbody tr th {\n",
       "        vertical-align: top;\n",
       "    }\n",
       "\n",
       "    .dataframe thead th {\n",
       "        text-align: right;\n",
       "    }\n",
       "</style>\n",
       "<table border=\"1\" class=\"dataframe\">\n",
       "  <thead>\n",
       "    <tr style=\"text-align: right;\">\n",
       "      <th></th>\n",
       "      <th>bids</th>\n",
       "      <th>asks</th>\n",
       "    </tr>\n",
       "    <tr>\n",
       "      <th>time</th>\n",
       "      <th></th>\n",
       "      <th></th>\n",
       "    </tr>\n",
       "  </thead>\n",
       "  <tbody>\n",
       "    <tr>\n",
       "      <th>10963965124</th>\n",
       "      <td>[['3809.87000000', '15.51040000'], ['3809.8100...</td>\n",
       "      <td>[['3809.88000000', '8.71200000'], ['3810.07000...</td>\n",
       "    </tr>\n",
       "    <tr>\n",
       "      <th>10963965361</th>\n",
       "      <td>[['3810.06000000', '20.62370000'], ['3810.0000...</td>\n",
       "      <td>[['3810.07000000', '12.90080000'], ['3810.1300...</td>\n",
       "    </tr>\n",
       "    <tr>\n",
       "      <th>10963965448</th>\n",
       "      <td>[['3810.06000000', '11.33270000'], ['3810.0000...</td>\n",
       "      <td>[['3810.07000000', '14.71520000'], ['3810.1300...</td>\n",
       "    </tr>\n",
       "    <tr>\n",
       "      <th>10963965471</th>\n",
       "      <td>[['3810.06000000', '11.63080000'], ['3810.0000...</td>\n",
       "      <td>[['3810.07000000', '14.71520000'], ['3810.1300...</td>\n",
       "    </tr>\n",
       "    <tr>\n",
       "      <th>10963965566</th>\n",
       "      <td>[['3810.06000000', '20.92580000'], ['3810.0100...</td>\n",
       "      <td>[['3810.07000000', '4.26200000'], ['3810.13000...</td>\n",
       "    </tr>\n",
       "    <tr>\n",
       "      <th>...</th>\n",
       "      <td>...</td>\n",
       "      <td>...</td>\n",
       "    </tr>\n",
       "    <tr>\n",
       "      <th>10964008850</th>\n",
       "      <td>[['3809.97000000', '10.90080000'], ['3809.9000...</td>\n",
       "      <td>[['3809.98000000', '11.65910000'], ['3809.9900...</td>\n",
       "    </tr>\n",
       "    <tr>\n",
       "      <th>10964009296</th>\n",
       "      <td>[['3809.98000000', '13.89120000'], ['3809.9000...</td>\n",
       "      <td>[['3809.99000000', '15.28460000'], ['3810.0000...</td>\n",
       "    </tr>\n",
       "    <tr>\n",
       "      <th>10964009462</th>\n",
       "      <td>[['3809.98000000', '18.36810000'], ['3809.9600...</td>\n",
       "      <td>[['3809.99000000', '13.69720000'], ['3810.0000...</td>\n",
       "    </tr>\n",
       "    <tr>\n",
       "      <th>10964009503</th>\n",
       "      <td>[['3809.98000000', '17.85840000'], ['3809.9000...</td>\n",
       "      <td>[['3809.99000000', '14.27010000'], ['3810.0000...</td>\n",
       "    </tr>\n",
       "    <tr>\n",
       "      <th>10964009870</th>\n",
       "      <td>[['3809.70000000', '0.73550000'], ['3809.69000...</td>\n",
       "      <td>[['3809.71000000', '22.50500000'], ['3809.7900...</td>\n",
       "    </tr>\n",
       "  </tbody>\n",
       "</table>\n",
       "<p>188 rows × 2 columns</p>\n",
       "</div>"
      ],
      "text/plain": [
       "                                                          bids  \\\n",
       "time                                                             \n",
       "10963965124  [['3809.87000000', '15.51040000'], ['3809.8100...   \n",
       "10963965361  [['3810.06000000', '20.62370000'], ['3810.0000...   \n",
       "10963965448  [['3810.06000000', '11.33270000'], ['3810.0000...   \n",
       "10963965471  [['3810.06000000', '11.63080000'], ['3810.0000...   \n",
       "10963965566  [['3810.06000000', '20.92580000'], ['3810.0100...   \n",
       "...                                                        ...   \n",
       "10964008850  [['3809.97000000', '10.90080000'], ['3809.9000...   \n",
       "10964009296  [['3809.98000000', '13.89120000'], ['3809.9000...   \n",
       "10964009462  [['3809.98000000', '18.36810000'], ['3809.9600...   \n",
       "10964009503  [['3809.98000000', '17.85840000'], ['3809.9000...   \n",
       "10964009870  [['3809.70000000', '0.73550000'], ['3809.69000...   \n",
       "\n",
       "                                                          asks  \n",
       "time                                                            \n",
       "10963965124  [['3809.88000000', '8.71200000'], ['3810.07000...  \n",
       "10963965361  [['3810.07000000', '12.90080000'], ['3810.1300...  \n",
       "10963965448  [['3810.07000000', '14.71520000'], ['3810.1300...  \n",
       "10963965471  [['3810.07000000', '14.71520000'], ['3810.1300...  \n",
       "10963965566  [['3810.07000000', '4.26200000'], ['3810.13000...  \n",
       "...                                                        ...  \n",
       "10964008850  [['3809.98000000', '11.65910000'], ['3809.9900...  \n",
       "10964009296  [['3809.99000000', '15.28460000'], ['3810.0000...  \n",
       "10964009462  [['3809.99000000', '13.69720000'], ['3810.0000...  \n",
       "10964009503  [['3809.99000000', '14.27010000'], ['3810.0000...  \n",
       "10964009870  [['3809.71000000', '22.50500000'], ['3809.7900...  \n",
       "\n",
       "[188 rows x 2 columns]"
      ]
     },
     "execution_count": 1,
     "metadata": {},
     "output_type": "execute_result"
    }
   ],
   "source": [
    "import pandas as pd\n",
    "\n",
    "# Load the CSV\n",
    "df = pd.read_csv(\"/home/tobias/personal-dex-trading/out/data/order_book.csv\", index_col=\"time\")\n",
    "df"
   ]
  },
  {
   "cell_type": "markdown",
   "id": "b69fdc40",
   "metadata": {},
   "source": [
    "Next, use SBE Market data for lower latency: https://developers.binance.com/docs/binance-spot-api-docs/sbe-market-data-streams"
   ]
  },
  {
   "cell_type": "markdown",
   "id": "2af4a803",
   "metadata": {},
   "source": [
    "# Unichain"
   ]
  },
  {
   "cell_type": "code",
   "execution_count": null,
   "id": "8367716a",
   "metadata": {},
   "outputs": [],
   "source": [
    "from src.uniswap.v2_client import UniswapV2Client\n",
    "from src.config import UNICHAIN_WETH, UNICHAIN_USDC\n",
    "\n",
    "uniswap_client = UniswapV2Client()\n",
    "\n",
    "uniswap_client.get_amounts_out(UNICHAIN_WETH, UNICHAIN_USDC)"
   ]
  },
  {
   "cell_type": "code",
   "execution_count": null,
   "id": "ed89b540",
   "metadata": {},
   "outputs": [],
   "source": [
    "import os\n",
    "import sys\n",
    "sys.path.append(os.path.abspath(\"..\")) # set working dir\n",
    "\n",
    "from src.utils.retrieveAbi import save_abi_to_file, load_abi\n",
    "from src.config import (\n",
    "    UNICHAIN_UNIVERSAL_ROUTER_V2_ADDRESS, CHAINID_UNICHAIN,\n",
    "    UNICHAIN_UNISWAP_V2_ROUTER_02, UNICHAIN_WETH, UNICHAIN_USDC,\n",
    "    ALCHEMY_UNICHAIN_BASE_RPC_URL)\n",
    "\n",
    "save_abi_to_file(UNICHAIN_UNIVERSAL_ROUTER_V2_ADDRESS, chain_id=CHAINID_UNICHAIN)\n",
    "save_abi_to_file(UNICHAIN_UNISWAP_V2_ROUTER_02, chain_id=CHAINID_UNICHAIN)"
   ]
  },
  {
   "cell_type": "code",
   "execution_count": null,
   "id": "cbe16a4f",
   "metadata": {},
   "outputs": [],
   "source": [
    "WETH_AMOUNT_IN = 0.01\n",
    "USDC_AMOUNT_IN = 38\n",
    "weth_wei_amount_in = w3.to_wei(WETH_AMOUNT_IN, \"ether\")\n",
    "usdc_amounts_in = USDC_AMOUNT_IN * 10 ** 6 # USDC has 6 decimals\n",
    "\n",
    "router_address = Web3.to_checksum_address(UNICHAIN_UNISWAP_V2_ROUTER_02)\n",
    "router_abi = load_abi(router_address, CHAINID_UNICHAIN)\n",
    "router_contract = w3.eth.contract(address=router_address, abi=router_abi)\n",
    "\n",
    "alchemy_rpc_url = f\"{ALCHEMY_UNICHAIN_BASE_RPC_URL}{ALCHEMY_API_KEY}\"\n",
    "w3 = Web3(Web3.HTTPProvider(alchemy_rpc_url))\n",
    "print(w3.is_connected()) # check connection\n",
    "latest_block = w3.eth.get_block(\"latest\")\n",
    "print(latest_block.number) # latest block number"
   ]
  },
  {
   "cell_type": "code",
   "execution_count": null,
   "id": "49c154b1",
   "metadata": {},
   "outputs": [],
   "source": [
    "amounts_out = router_contract.functions.getAmountsOut(weth_wei_amount_in, [UNICHAIN_WETH, UNICHAIN_USDC]).call()\n",
    "print(f\"Input Amount (WETH): {WETH_AMOUNT_IN} WETH\")\n",
    "print(f\"Output Amount (USDC): {amounts_out[-1] / (10 ** 6)} USDC\")  # USDC has 6 decimals\n",
    "print(f\"----\")\n",
    "amounts_out_reverse = router_contract.functions.getAmountsOut(usdc_amounts_in, [UNICHAIN_USDC, UNICHAIN_WETH]).call()\n",
    "print(f\"Input Amount (USDC): {USDC_AMOUNT_IN} USDC\")\n",
    "print(f\"Output Amount (WETH): {w3.from_wei(amounts_out_reverse[-1], \"ether\")} WETH \")  # USDC has 6 decimals"
   ]
  },
  {
   "cell_type": "markdown",
   "id": "e7b20cb5",
   "metadata": {},
   "source": [
    "Next, we can either do:\n",
    "- arbitrage between Uniswap v2 and Binance \n"
   ]
  },
  {
   "cell_type": "code",
   "execution_count": null,
   "id": "68a936e8",
   "metadata": {},
   "outputs": [],
   "source": []
  },
  {
   "cell_type": "markdown",
   "id": "e35b3b21",
   "metadata": {},
   "source": [
    "- arbitrage between Uniswap v2 and v4 pools"
   ]
  },
  {
   "cell_type": "code",
   "execution_count": null,
   "id": "afe9e598",
   "metadata": {},
   "outputs": [],
   "source": []
  },
  {
   "cell_type": "markdown",
   "id": "b31b6814",
   "metadata": {},
   "source": []
  }
 ],
 "metadata": {
  "kernelspec": {
   "display_name": ".venv (3.12.3)",
   "language": "python",
   "name": "python3"
  },
  "language_info": {
   "codemirror_mode": {
    "name": "ipython",
    "version": 3
   },
   "file_extension": ".py",
   "mimetype": "text/x-python",
   "name": "python",
   "nbconvert_exporter": "python",
   "pygments_lexer": "ipython3",
   "version": "3.12.3"
  }
 },
 "nbformat": 4,
 "nbformat_minor": 5
}
