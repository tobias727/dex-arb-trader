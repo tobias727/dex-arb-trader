{
 "cells": [
  {
   "cell_type": "code",
   "execution_count": null,
   "id": "9acc0237",
   "metadata": {},
   "outputs": [],
   "source": [
    "import os\n",
    "import sys\n",
    "sys.path.append(os.path.abspath(\"..\")) # set working dir\n",
    "\n",
    "from web3 import Web3\n",
    "from src.config import ALCHEMY_API_KEY\n",
    "\n",
    "ETHEREUM_RPC_URL = f\"https://eth-mainnet.g.alchemy.com/v2/{ALCHEMY_API_KEY}\"\n",
    "w3 = Web3(Web3.HTTPProvider(ETHEREUM_RPC_URL))\n",
    "print(w3.is_connected()) # check connection\n",
    "latest_block = w3.eth.get_block(\"latest\")\n",
    "print(latest_block) # latest block"
   ]
  },
  {
   "cell_type": "markdown",
   "id": "3fef6cc4",
   "metadata": {},
   "source": [
    "# Setup"
   ]
  },
  {
   "cell_type": "code",
   "execution_count": null,
   "id": "905a1818",
   "metadata": {},
   "outputs": [],
   "source": [
    "from src.utils.retrieveAbi import save_abi_to_file\n",
    "from src.config import MAINNET_UNISWAP_V2_ROUTER_02, MAINNET_SUSHISWAP_ROUTER_ADDRESS, CHAINID_MAINNET\n",
    "\n",
    "# Load ABIs\n",
    "save_abi_to_file(MAINNET_UNISWAP_V2_ROUTER_02) # uniswap v2 router abi\n",
    "save_abi_to_file(MAINNET_SUSHISWAP_ROUTER_ADDRESS) # sushiswap router abi"
   ]
  },
  {
   "cell_type": "markdown",
   "id": "b7a83d01",
   "metadata": {},
   "source": [
    "# Contract Interactions"
   ]
  },
  {
   "cell_type": "code",
   "execution_count": null,
   "id": "b40a2276",
   "metadata": {},
   "outputs": [],
   "source": [
    "import time\n",
    "from src.utils.retrieveAbi import load_abi\n",
    "\n",
    "def get_amounts_out(token1_address, token2_address, amount_in, router_contract):\n",
    "    \"\"\"Uses w3 getAmountsOut function to return amounts out, given two tokens, router contract and amount in\"\"\"\n",
    "    token1_address = Web3.to_checksum_address(token1_address)\n",
    "    token2_address = Web3.to_checksum_address(token2_address)\n",
    "    path = [token1_address, token2_address]\n",
    "    amounts_out = router_contract.functions.getAmountsOut(amount_in, path).call()\n",
    "    return w3.from_wei(amounts_out[-1], 'ether')"
   ]
  },
  {
   "cell_type": "code",
   "execution_count": null,
   "id": "30a2c7c5",
   "metadata": {},
   "outputs": [],
   "source": [
    "# uniswap\n",
    "uniswap_router_abi = load_abi(MAINNET_UNISWAP_V2_ROUTER_02, CHAINID_MAINNET)\n",
    "uniswap_router_address = Web3.to_checksum_address(MAINNET_UNISWAP_V2_ROUTER_02)\n",
    "uniswap_router_contract = w3.eth.contract(address=uniswap_router_address, abi=uniswap_router_abi)\n",
    "uniswap_weth_address = \"0xC02aaa39b223FE8D0A0e5C4F27eAD9083C756Cc2\"\n",
    "uniswap_dai_address = \"0x6B175474E89094C44Da98b954EedeAC495271d0F\"\n",
    "uniswap_amount_in = w3.to_wei(1, \"ether\")\n",
    "\n",
    "# sushiswap\n",
    "sushiswap_router_abi = load_abi(MAINNET_SUSHISWAP_ROUTER_ADDRESS, CHAINID_MAINNET)\n",
    "sushiswap_router_address = Web3.to_checksum_address(MAINNET_SUSHISWAP_ROUTER_ADDRESS)\n",
    "sushiswap_router_contract = w3.eth.contract(address=sushiswap_router_address, abi=sushiswap_router_abi)\n",
    "sushiswap_weth_address = \"0xC02aaa39b223FE8D0A0e5C4F27eAD9083C756Cc2\"\n",
    "sushiswap_dai_address = \"0x6B175474E89094C44Da98b954EedeAC495271d0F\"\n",
    "sushiswap_amount_in = w3.to_wei(1, \"ether\")\n",
    "\n",
    "try:\n",
    "    prev_block=0\n",
    "    while True:\n",
    "        block = w3.eth.block_number\n",
    "        uniswap_amount_out = get_amounts_out(uniswap_weth_address, uniswap_dai_address, uniswap_amount_in, uniswap_router_contract)\n",
    "        sushiswap_amount_out = get_amounts_out(sushiswap_weth_address, sushiswap_dai_address, sushiswap_amount_in, sushiswap_router_contract)\n",
    "        if block > prev_block:\n",
    "            print(f\"Block {block} | Uniswap: 1 ETH ≈ {uniswap_amount_out} DAI | Sushiswap: 1 ETH ≈ {sushiswap_amount_out} | Delta = {uniswap_amount_out-sushiswap_amount_out}\")\n",
    "            prev_block = block\n",
    "        time.sleep(1)\n",
    "except KeyboardInterrupt:\n",
    "    print(\"Stopped by user.\")"
   ]
  },
  {
   "cell_type": "markdown",
   "id": "31b60895",
   "metadata": {},
   "source": [
    "# Analysis"
   ]
  },
  {
   "cell_type": "code",
   "execution_count": 34,
   "id": "9c0a31fb",
   "metadata": {},
   "outputs": [
    {
     "data": {
      "text/html": [
       "<div>\n",
       "<style scoped>\n",
       "    .dataframe tbody tr th:only-of-type {\n",
       "        vertical-align: middle;\n",
       "    }\n",
       "\n",
       "    .dataframe tbody tr th {\n",
       "        vertical-align: top;\n",
       "    }\n",
       "\n",
       "    .dataframe thead th {\n",
       "        text-align: right;\n",
       "    }\n",
       "</style>\n",
       "<table border=\"1\" class=\"dataframe\">\n",
       "  <thead>\n",
       "    <tr style=\"text-align: right;\">\n",
       "      <th></th>\n",
       "      <th>bids</th>\n",
       "      <th>asks</th>\n",
       "    </tr>\n",
       "    <tr>\n",
       "      <th>time</th>\n",
       "      <th></th>\n",
       "      <th></th>\n",
       "    </tr>\n",
       "  </thead>\n",
       "  <tbody>\n",
       "    <tr>\n",
       "      <th>2025-07-29 15:05:40.000000</th>\n",
       "      <td>[['3854.75000000', '31.90520000'], ['3854.7000...</td>\n",
       "      <td>[['3854.76000000', '0.00200000'], ['3854.77000...</td>\n",
       "    </tr>\n",
       "    <tr>\n",
       "      <th>2025-07-29 15:05:41.000000</th>\n",
       "      <td>[['3854.96000000', '35.81790000'], ['3854.9100...</td>\n",
       "      <td>[['3854.97000000', '0.00200000'], ['3855.09000...</td>\n",
       "    </tr>\n",
       "    <tr>\n",
       "      <th>2025-07-29 15:05:42.000000</th>\n",
       "      <td>[['3855.08000000', '36.43730000'], ['3855.0000...</td>\n",
       "      <td>[['3855.09000000', '0.00140000'], ['3855.10000...</td>\n",
       "    </tr>\n",
       "    <tr>\n",
       "      <th>2025-07-29 15:05:43.000000</th>\n",
       "      <td>[['3855.08000000', '17.09890000'], ['3855.0600...</td>\n",
       "      <td>[['3855.09000000', '12.07730000'], ['3855.1000...</td>\n",
       "    </tr>\n",
       "    <tr>\n",
       "      <th>2025-07-29 15:05:44.000000</th>\n",
       "      <td>[['3855.08000000', '13.31860000'], ['3855.0100...</td>\n",
       "      <td>[['3855.09000000', '9.84890000'], ['3855.10000...</td>\n",
       "    </tr>\n",
       "    <tr>\n",
       "      <th>...</th>\n",
       "      <td>...</td>\n",
       "      <td>...</td>\n",
       "    </tr>\n",
       "    <tr>\n",
       "      <th>2025-07-29 15:08:13.000000</th>\n",
       "      <td>[['3844.07000000', '10.68110000'], ['3844.0200...</td>\n",
       "      <td>[['3844.08000000', '7.55070000'], ['3844.09000...</td>\n",
       "    </tr>\n",
       "    <tr>\n",
       "      <th>2025-07-29 15:08:14.000000</th>\n",
       "      <td>[['3844.07000000', '7.52210000'], ['3844.02000...</td>\n",
       "      <td>[['3844.08000000', '10.80750000'], ['3844.0900...</td>\n",
       "    </tr>\n",
       "    <tr>\n",
       "      <th>2025-07-29 15:08:15.000000</th>\n",
       "      <td>[['3844.07000000', '8.08770000'], ['3844.02000...</td>\n",
       "      <td>[['3844.08000000', '7.15840000'], ['3844.09000...</td>\n",
       "    </tr>\n",
       "    <tr>\n",
       "      <th>2025-07-29 15:08:16.000000</th>\n",
       "      <td>[['3844.25000000', '22.75250000'], ['3844.2200...</td>\n",
       "      <td>[['3844.26000000', '4.26640000'], ['3844.27000...</td>\n",
       "    </tr>\n",
       "    <tr>\n",
       "      <th>2025-07-29 15:08:17.000000</th>\n",
       "      <td>[['3844.38000000', '4.85730000'], ['3844.33000...</td>\n",
       "      <td>[['3844.39000000', '9.68260000'], ['3844.40000...</td>\n",
       "    </tr>\n",
       "  </tbody>\n",
       "</table>\n",
       "<p>153 rows × 2 columns</p>\n",
       "</div>"
      ],
      "text/plain": [
       "                                                                         bids  \\\n",
       "time                                                                            \n",
       "2025-07-29 15:05:40.000000  [['3854.75000000', '31.90520000'], ['3854.7000...   \n",
       "2025-07-29 15:05:41.000000  [['3854.96000000', '35.81790000'], ['3854.9100...   \n",
       "2025-07-29 15:05:42.000000  [['3855.08000000', '36.43730000'], ['3855.0000...   \n",
       "2025-07-29 15:05:43.000000  [['3855.08000000', '17.09890000'], ['3855.0600...   \n",
       "2025-07-29 15:05:44.000000  [['3855.08000000', '13.31860000'], ['3855.0100...   \n",
       "...                                                                       ...   \n",
       "2025-07-29 15:08:13.000000  [['3844.07000000', '10.68110000'], ['3844.0200...   \n",
       "2025-07-29 15:08:14.000000  [['3844.07000000', '7.52210000'], ['3844.02000...   \n",
       "2025-07-29 15:08:15.000000  [['3844.07000000', '8.08770000'], ['3844.02000...   \n",
       "2025-07-29 15:08:16.000000  [['3844.25000000', '22.75250000'], ['3844.2200...   \n",
       "2025-07-29 15:08:17.000000  [['3844.38000000', '4.85730000'], ['3844.33000...   \n",
       "\n",
       "                                                                         asks  \n",
       "time                                                                           \n",
       "2025-07-29 15:05:40.000000  [['3854.76000000', '0.00200000'], ['3854.77000...  \n",
       "2025-07-29 15:05:41.000000  [['3854.97000000', '0.00200000'], ['3855.09000...  \n",
       "2025-07-29 15:05:42.000000  [['3855.09000000', '0.00140000'], ['3855.10000...  \n",
       "2025-07-29 15:05:43.000000  [['3855.09000000', '12.07730000'], ['3855.1000...  \n",
       "2025-07-29 15:05:44.000000  [['3855.09000000', '9.84890000'], ['3855.10000...  \n",
       "...                                                                       ...  \n",
       "2025-07-29 15:08:13.000000  [['3844.08000000', '7.55070000'], ['3844.09000...  \n",
       "2025-07-29 15:08:14.000000  [['3844.08000000', '10.80750000'], ['3844.0900...  \n",
       "2025-07-29 15:08:15.000000  [['3844.08000000', '7.15840000'], ['3844.09000...  \n",
       "2025-07-29 15:08:16.000000  [['3844.26000000', '4.26640000'], ['3844.27000...  \n",
       "2025-07-29 15:08:17.000000  [['3844.39000000', '9.68260000'], ['3844.40000...  \n",
       "\n",
       "[153 rows x 2 columns]"
      ]
     },
     "execution_count": 34,
     "metadata": {},
     "output_type": "execute_result"
    }
   ],
   "source": [
    "import pandas as pd\n",
    "from datetime import datetime, timezone\n",
    "\n",
    "# Load the CSV\n",
    "df_binance = pd.read_csv(\"/home/tobias/personal-dex-trading/out/data/order_book.csv\", index_col=\"time\")\n",
    "df_binance = df_binance[~df_binance.index.duplicated(keep='first')]\n",
    "df_binance"
   ]
  },
  {
   "cell_type": "markdown",
   "id": "b69fdc40",
   "metadata": {},
   "source": []
  },
  {
   "cell_type": "code",
   "execution_count": 32,
   "id": "bda6b5e8",
   "metadata": {},
   "outputs": [
    {
     "data": {
      "text/html": [
       "<div>\n",
       "<style scoped>\n",
       "    .dataframe tbody tr th:only-of-type {\n",
       "        vertical-align: middle;\n",
       "    }\n",
       "\n",
       "    .dataframe tbody tr th {\n",
       "        vertical-align: top;\n",
       "    }\n",
       "\n",
       "    .dataframe thead th {\n",
       "        text-align: right;\n",
       "    }\n",
       "</style>\n",
       "<table border=\"1\" class=\"dataframe\">\n",
       "  <thead>\n",
       "    <tr style=\"text-align: right;\">\n",
       "      <th></th>\n",
       "      <th>input_value</th>\n",
       "      <th>output_value</th>\n",
       "    </tr>\n",
       "    <tr>\n",
       "      <th>timestamp</th>\n",
       "      <th></th>\n",
       "      <th></th>\n",
       "    </tr>\n",
       "  </thead>\n",
       "  <tbody>\n",
       "    <tr>\n",
       "      <th>2025-07-29 15:05:41</th>\n",
       "      <td>0.0001</td>\n",
       "      <td>0.383584</td>\n",
       "    </tr>\n",
       "    <tr>\n",
       "      <th>2025-07-29 15:05:41</th>\n",
       "      <td>0.0010</td>\n",
       "      <td>3.834008</td>\n",
       "    </tr>\n",
       "    <tr>\n",
       "      <th>2025-07-29 15:05:41</th>\n",
       "      <td>0.0100</td>\n",
       "      <td>38.157222</td>\n",
       "    </tr>\n",
       "    <tr>\n",
       "      <th>2025-07-29 15:05:42</th>\n",
       "      <td>0.0001</td>\n",
       "      <td>0.383584</td>\n",
       "    </tr>\n",
       "    <tr>\n",
       "      <th>2025-07-29 15:05:42</th>\n",
       "      <td>0.0010</td>\n",
       "      <td>3.834008</td>\n",
       "    </tr>\n",
       "    <tr>\n",
       "      <th>...</th>\n",
       "      <td>...</td>\n",
       "      <td>...</td>\n",
       "    </tr>\n",
       "    <tr>\n",
       "      <th>2025-07-29 15:08:16</th>\n",
       "      <td>0.0010</td>\n",
       "      <td>3.833956</td>\n",
       "    </tr>\n",
       "    <tr>\n",
       "      <th>2025-07-29 15:08:16</th>\n",
       "      <td>0.0100</td>\n",
       "      <td>38.156707</td>\n",
       "    </tr>\n",
       "    <tr>\n",
       "      <th>2025-07-29 15:08:17</th>\n",
       "      <td>0.0001</td>\n",
       "      <td>0.383579</td>\n",
       "    </tr>\n",
       "    <tr>\n",
       "      <th>2025-07-29 15:08:17</th>\n",
       "      <td>0.0010</td>\n",
       "      <td>3.833956</td>\n",
       "    </tr>\n",
       "    <tr>\n",
       "      <th>2025-07-29 15:08:17</th>\n",
       "      <td>0.0100</td>\n",
       "      <td>38.156707</td>\n",
       "    </tr>\n",
       "  </tbody>\n",
       "</table>\n",
       "<p>387 rows × 2 columns</p>\n",
       "</div>"
      ],
      "text/plain": [
       "                     input_value  output_value\n",
       "timestamp                                     \n",
       "2025-07-29 15:05:41       0.0001      0.383584\n",
       "2025-07-29 15:05:41       0.0010      3.834008\n",
       "2025-07-29 15:05:41       0.0100     38.157222\n",
       "2025-07-29 15:05:42       0.0001      0.383584\n",
       "2025-07-29 15:05:42       0.0010      3.834008\n",
       "...                          ...           ...\n",
       "2025-07-29 15:08:16       0.0010      3.833956\n",
       "2025-07-29 15:08:16       0.0100     38.156707\n",
       "2025-07-29 15:08:17       0.0001      0.383579\n",
       "2025-07-29 15:08:17       0.0010      3.833956\n",
       "2025-07-29 15:08:17       0.0100     38.156707\n",
       "\n",
       "[387 rows x 2 columns]"
      ]
     },
     "execution_count": 32,
     "metadata": {},
     "output_type": "execute_result"
    }
   ],
   "source": [
    "# load csv\n",
    "df_unichain = pd.read_csv(\"/home/tobias/personal-dex-trading/out/data/block_data.csv\", index_col=\"timestamp\")\n",
    "df_unichain.index = pd.to_datetime(df_unichain.index, unit='s')\n",
    "df_unichain.index += pd.Timedelta(hours=2) # match binance timezone\n",
    "df_unichain"
   ]
  },
  {
   "cell_type": "markdown",
   "id": "d3306687",
   "metadata": {},
   "source": [
    "# Next"
   ]
  },
  {
   "cell_type": "markdown",
   "id": "8ce89c3e",
   "metadata": {},
   "source": [
    "## Binance"
   ]
  },
  {
   "cell_type": "markdown",
   "id": "65a382c5",
   "metadata": {},
   "source": [
    "Next, use SBE Market data for lower latency: https://developers.binance.com/docs/binance-spot-api-docs/sbe-market-data-streams"
   ]
  },
  {
   "cell_type": "markdown",
   "id": "22043d3a",
   "metadata": {},
   "source": [
    "## Unichain"
   ]
  },
  {
   "cell_type": "markdown",
   "id": "e7b20cb5",
   "metadata": {},
   "source": [
    "Next, we can either do:\n",
    "- arbitrage between Uniswap v4 and Binance \n"
   ]
  },
  {
   "cell_type": "markdown",
   "id": "e35b3b21",
   "metadata": {},
   "source": [
    "- arbitrage between Uniswap v2 and v4 pools"
   ]
  }
 ],
 "metadata": {
  "kernelspec": {
   "display_name": ".venv (3.12.3)",
   "language": "python",
   "name": "python3"
  },
  "language_info": {
   "codemirror_mode": {
    "name": "ipython",
    "version": 3
   },
   "file_extension": ".py",
   "mimetype": "text/x-python",
   "name": "python",
   "nbconvert_exporter": "python",
   "pygments_lexer": "ipython3",
   "version": "3.12.3"
  }
 },
 "nbformat": 4,
 "nbformat_minor": 5
}
