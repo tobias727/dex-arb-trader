{
 "cells": [
  {
   "cell_type": "code",
   "execution_count": null,
   "id": "9acc0237",
   "metadata": {},
   "outputs": [],
   "source": [
    "import os\n",
    "import sys\n",
    "sys.path.append(os.path.abspath(\"..\")) # set working dir\n",
    "\n",
    "from web3 import Web3\n",
    "from src.config import ALCHEMY_API_KEY\n",
    "\n",
    "ETHEREUM_RPC_URL = f\"https://eth-mainnet.g.alchemy.com/v2/{ALCHEMY_API_KEY}\"\n",
    "w3 = Web3(Web3.HTTPProvider(ETHEREUM_RPC_URL))\n",
    "print(w3.is_connected()) # check connection\n",
    "latest_block = w3.eth.get_block(\"latest\")\n",
    "print(latest_block) # latest block"
   ]
  },
  {
   "cell_type": "code",
   "execution_count": null,
   "id": "71d51f49",
   "metadata": {},
   "outputs": [],
   "source": [
    "from src.config import OUTPUT_DIRECTORY\n",
    "OUTPUT_DIRECTORY"
   ]
  },
  {
   "cell_type": "markdown",
   "id": "3fef6cc4",
   "metadata": {},
   "source": [
    "# Setup"
   ]
  },
  {
   "cell_type": "code",
   "execution_count": null,
   "id": "905a1818",
   "metadata": {},
   "outputs": [],
   "source": [
    "from src.utils.retrieveAbi import save_abi_to_file\n",
    "from src.config import MAINNET_UNISWAP_V2_ROUTER_02, MAINNET_SUSHISWAP_ROUTER_ADDRESS, CHAINID_MAINNET\n",
    "\n",
    "# Load ABIs\n",
    "save_abi_to_file(MAINNET_UNISWAP_V2_ROUTER_02) # uniswap v2 router abi\n",
    "save_abi_to_file(MAINNET_SUSHISWAP_ROUTER_ADDRESS) # sushiswap router abi"
   ]
  },
  {
   "cell_type": "markdown",
   "id": "b7a83d01",
   "metadata": {},
   "source": [
    "# Contract Interactions"
   ]
  },
  {
   "cell_type": "code",
   "execution_count": null,
   "id": "b40a2276",
   "metadata": {},
   "outputs": [],
   "source": [
    "import time\n",
    "from src.utils.retrieveAbi import load_abi\n",
    "\n",
    "def get_amounts_out(token1_address, token2_address, amount_in, router_contract):\n",
    "    \"\"\"Uses w3 getAmountsOut function to return amounts out, given two tokens, router contract and amount in\"\"\"\n",
    "    token1_address = Web3.to_checksum_address(token1_address)\n",
    "    token2_address = Web3.to_checksum_address(token2_address)\n",
    "    path = [token1_address, token2_address]\n",
    "    amounts_out = router_contract.functions.getAmountsOut(amount_in, path).call()\n",
    "    return w3.from_wei(amounts_out[-1], 'ether')"
   ]
  },
  {
   "cell_type": "code",
   "execution_count": null,
   "id": "30a2c7c5",
   "metadata": {},
   "outputs": [],
   "source": [
    "# uniswap\n",
    "uniswap_router_abi = load_abi(MAINNET_UNISWAP_V2_ROUTER_02, CHAINID_MAINNET)\n",
    "uniswap_router_address = Web3.to_checksum_address(MAINNET_UNISWAP_V2_ROUTER_02)\n",
    "uniswap_router_contract = w3.eth.contract(address=uniswap_router_address, abi=uniswap_router_abi)\n",
    "uniswap_weth_address = \"0xC02aaa39b223FE8D0A0e5C4F27eAD9083C756Cc2\"\n",
    "uniswap_dai_address = \"0x6B175474E89094C44Da98b954EedeAC495271d0F\"\n",
    "uniswap_amount_in = w3.to_wei(1, \"ether\")\n",
    "\n",
    "# sushiswap\n",
    "sushiswap_router_abi = load_abi(MAINNET_SUSHISWAP_ROUTER_ADDRESS, CHAINID_MAINNET)\n",
    "sushiswap_router_address = Web3.to_checksum_address(MAINNET_SUSHISWAP_ROUTER_ADDRESS)\n",
    "sushiswap_router_contract = w3.eth.contract(address=sushiswap_router_address, abi=sushiswap_router_abi)\n",
    "sushiswap_weth_address = \"0xC02aaa39b223FE8D0A0e5C4F27eAD9083C756Cc2\"\n",
    "sushiswap_dai_address = \"0x6B175474E89094C44Da98b954EedeAC495271d0F\"\n",
    "sushiswap_amount_in = w3.to_wei(1, \"ether\")\n",
    "\n",
    "try:\n",
    "    prev_block=0\n",
    "    while True:\n",
    "        block = w3.eth.block_number\n",
    "        uniswap_amount_out = get_amounts_out(uniswap_weth_address, uniswap_dai_address, uniswap_amount_in, uniswap_router_contract)\n",
    "        sushiswap_amount_out = get_amounts_out(sushiswap_weth_address, sushiswap_dai_address, sushiswap_amount_in, sushiswap_router_contract)\n",
    "        if block > prev_block:\n",
    "            print(f\"Block {block} | Uniswap: 1 ETH ≈ {uniswap_amount_out} DAI | Sushiswap: 1 ETH ≈ {sushiswap_amount_out} | Delta = {uniswap_amount_out-sushiswap_amount_out}\")\n",
    "            prev_block = block\n",
    "        time.sleep(1)\n",
    "except KeyboardInterrupt:\n",
    "    print(\"Stopped by user.\")"
   ]
  },
  {
   "cell_type": "markdown",
   "id": "31b60895",
   "metadata": {},
   "source": [
    "# Analysis"
   ]
  },
  {
   "cell_type": "code",
   "execution_count": null,
   "id": "9c0a31fb",
   "metadata": {},
   "outputs": [],
   "source": [
    "import pandas as pd\n",
    "from datetime import datetime, timezone\n",
    "\n",
    "# Load the CSV\n",
    "df_binance = pd.read_csv(\"/home/tobias/personal-dex-trading/out/data/order_book.csv\", index_col=\"time\")\n",
    "df_binance = df_binance[~df_binance.index.duplicated(keep='first')]\n",
    "df_binance"
   ]
  },
  {
   "cell_type": "markdown",
   "id": "b69fdc40",
   "metadata": {},
   "source": []
  },
  {
   "cell_type": "code",
   "execution_count": null,
   "id": "bda6b5e8",
   "metadata": {},
   "outputs": [],
   "source": [
    "# load csv\n",
    "df_unichain = pd.read_csv(\"/home/tobias/personal-dex-trading/out/data/block_data.csv\", index_col=\"timestamp\")\n",
    "df_unichain.index = pd.to_datetime(df_unichain.index, unit='s')\n",
    "df_unichain.index += pd.Timedelta(hours=2) # match binance timezone\n",
    "df_unichain"
   ]
  },
  {
   "cell_type": "markdown",
   "id": "d3306687",
   "metadata": {},
   "source": [
    "# Next"
   ]
  },
  {
   "cell_type": "markdown",
   "id": "8ce89c3e",
   "metadata": {},
   "source": [
    "## Binance"
   ]
  },
  {
   "cell_type": "markdown",
   "id": "65a382c5",
   "metadata": {},
   "source": [
    "Next, use SBE Market data for lower latency: https://developers.binance.com/docs/binance-spot-api-docs/sbe-market-data-streams"
   ]
  },
  {
   "cell_type": "markdown",
   "id": "22043d3a",
   "metadata": {},
   "source": [
    "## Unichain"
   ]
  },
  {
   "cell_type": "markdown",
   "id": "e7b20cb5",
   "metadata": {},
   "source": [
    "Next, we can either do:\n",
    "- arbitrage between Uniswap v4 and Binance \n"
   ]
  },
  {
   "cell_type": "markdown",
   "id": "e35b3b21",
   "metadata": {},
   "source": [
    "- arbitrage between Uniswap v2 and v4 pools"
   ]
  }
 ],
 "metadata": {
  "kernelspec": {
   "display_name": ".venv (3.12.3)",
   "language": "python",
   "name": "python3"
  },
  "language_info": {
   "codemirror_mode": {
    "name": "ipython",
    "version": 3
   },
   "file_extension": ".py",
   "mimetype": "text/x-python",
   "name": "python",
   "nbconvert_exporter": "python",
   "pygments_lexer": "ipython3",
   "version": "3.12.3"
  }
 },
 "nbformat": 4,
 "nbformat_minor": 5
}
