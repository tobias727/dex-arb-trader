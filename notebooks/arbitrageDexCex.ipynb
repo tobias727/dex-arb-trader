{
 "cells": [
  {
   "cell_type": "code",
   "execution_count": 3,
   "id": "9acc0237",
   "metadata": {},
   "outputs": [
    {
     "name": "stdout",
     "output_type": "stream",
     "text": [
      "True\n",
      "AttributeDict({'hash': HexBytes('0x1a6cda84664ba44c1b0387f4b040032c8e7ff6ccc4664762ba7655cf7f3320c4'), 'parentHash': HexBytes('0xa7d16558040bf445f1f83cae083ce91447f1fab31cf96cf98850ec833be9757c'), 'sha3Uncles': HexBytes('0x1dcc4de8dec75d7aab85b567b6ccd41ad312451b948a7413f0a142fd40d49347'), 'miner': '0x4838B106FCe9647Bdf1E7877BF73cE8B0BAD5f97', 'stateRoot': HexBytes('0x6b17082d5bca86c84447226843c9dbe7ef04f7b49b1e41bb94d59b836eac14d9'), 'transactionsRoot': HexBytes('0xb8a3973b694eb5e46320646de42e3d815297d92b6cb7004dd834dd4e783851b6'), 'receiptsRoot': HexBytes('0x37c1b64b184bc78b79c71795c73549fd6c9fc38f45d3e5f1e48c650eb72f8244'), 'logsBloom': HexBytes('0x8bf9edf7c1edbf9f757bbdf6fff5defd7ff465ff0ddbf9bdb2dfb9ffffbef796ffdfc776bbfebd9ef7dbff7bfbfb5ffe77f7cf5ecf7efdf5df9dbeda7baffffffef6feffbadfffefed5beffffdfd7ffeffdfdefff77f7eff7cf5cdd7dfee9ff6ffffebdfaefbdffdeeb8ddd7eff77fdbbfafff7eeffffefffaffc77d7bfafff7fbfa6fdfffbf7faafcddfd7fef6fb87ff473ff7dfbbfbfffbdbdf6d6efbef7bebffb7bbbd7f17f7eafff7af3ffdfaffbbbafffa7defff9ffff6f777f2faffff7fb96bfefefa6bbdb77f59f9bef7ffdff6dfca77bf6edbffcffebf7cfb7bfebdff7bf7ffeefff7ffdefec7fd7e3ddfcffafabdf367ffedbffffeb7afffaf9fbfb'), 'difficulty': 0, 'number': 23012163, 'gasLimit': 44911940, 'gasUsed': 38553835, 'timestamp': 1753639547, 'extraData': HexBytes('0x546974616e2028746974616e6275696c6465722e78797a29'), 'mixHash': HexBytes('0x37d213f9fb7dc8f16cff09402bb7474ec650113a2faee4d65b9acefab02dc651'), 'nonce': HexBytes('0x0000000000000000'), 'baseFeePerGas': 329825287, 'withdrawalsRoot': HexBytes('0x3fb5388ae33f329f4cfb523a9a7e6cb6a2725fd96a60455c67c92218d5915d61'), 'blobGasUsed': 0, 'excessBlobGas': 0, 'parentBeaconBlockRoot': HexBytes('0x97353490021dde9310062275353e178069a1b354dd741396569841f66f516e48'), 'requestsHash': HexBytes('0xe3b0c44298fc1c149afbf4c8996fb92427ae41e4649b934ca495991b7852b855'), 'size': 187400, 'uncles': [], 'transactions': [HexBytes('0x264fe3bbd24b84ba75a626f6a9545316e459379a3413f51c40df0396d91db718'), HexBytes('0x009b691ced46625b4a95e18e11f3c7502fd7d21d192e68563f3d3ee9defee31d'), HexBytes('0x94dca384bf0a0ba144a3e38c90e3fac8249b1779b8e84f1ee860ea1341c13f26'), HexBytes('0xc6f4ef958ac8eae112668dc8bd47230306e0e4a0b27a634641ac927475cf5429'), HexBytes('0xe786af09c1ea9af12b4d81cd5fb6d7ad2e45dfd4e837457276ec965a637e8508'), HexBytes('0x1935e2bc3b2a84742deeca83e255ca630b755e1f6ab3bd555f9bd72b404e89c1'), HexBytes('0xe9f03510470078e35f23a7858ef648b29e5c29adb57d5d43e43a8fd6c658c908'), HexBytes('0x8879d662dd1040d484d270318176fe2a880d4eca6a36b91aa04355459bf56509'), HexBytes('0x2cd93ba7b936a5cf5787afccda85983707a411cda1b1ab3778f4bba9893ade4b'), HexBytes('0x4bb15022af02b666db60459b218d9f7f24436817a9cf3ec4edfa39190d201a58'), HexBytes('0x3b5388f0fd1d5bc7fc9866ca84aa11b843b742c38afc436105e088208da59247'), HexBytes('0xdaefa9a31af241d849fc8298629150e1e52214a9765c0adc1deac250df5c63e6'), HexBytes('0xd8f82ba9b70ab81b2edc8eb10ab42ea11de339b1bdab55b7b1bb587ef3e5e398'), HexBytes('0x3d2caa91260090b32466d9c3147414a5c58991c279d6aa46fcb271d3090b85bf'), HexBytes('0x0fe123ba7b3d315d02cb4e6cda6fd33a5b3ed76cc06bca6c51541aa84bca4ba3'), HexBytes('0x0424918597ea96fa06a636597acc4354cdab1b5d885a20adcebc3d03900576db'), HexBytes('0x8305d487cf1b1a60a910cde8d6cd760c30a5ac67e40bbd876b503412b9ec2e6d'), HexBytes('0xa5e0b9a1a1535d5cd2f12e59f2c19b3890282d7e06a39b43f928f1577c0aa79b'), HexBytes('0x8cf550a3257728d4df97d7c429114b89ff79d39ca3735082fa099e70f7dabb6a'), HexBytes('0x4aa5e18888a6d20d7194a2a1f17d49c4ec7f0809fa8b3cc32b0b527cb0540c41'), HexBytes('0xebc56a673e80e7cb90611d8ed3629f16d61f86c3d3f0095366abf563441328cd'), HexBytes('0x66fbe29a0a22b1bbad840e625c10be3d44b589173fc4b2c1108540027fc807db'), HexBytes('0x276079333567849e31015212717152e18ccb735e7130fcde56ad4f8cd23f2df2'), HexBytes('0xad173f44abee69466c04164420f291b0f3f730f04ae1da0d4d41d18dc9a23650'), HexBytes('0x10d412c0b0c56c6cc46888b2fa10176af9389ffec4d519d1a5c4c4ba7d7688f7'), HexBytes('0xfaf231371eca10ab8dec07b82fefb809f79a7b680be5c9cd94f04d09d1b1450a'), HexBytes('0x9a6f85c62797467eda62335959d1735f281717aecaf2bc2a7e1d17a713d8524b'), HexBytes('0xc02fbbb8f3e777d0068b6cd8c082166b1a7d680682a7ac0a56c4638c61f3c61e'), HexBytes('0xd16eb105c86173224a3a7aae1b9f2210d5ae2cdf1161944ecefdc21c7506fc3a'), HexBytes('0x2121503a7c5ac7770da25331b78424d62db7f1f50cf5aba16a5a8dcb58140e50'), HexBytes('0x348cb013ec89ff633d7d768ae1a23a5a64d0b0e4cf452fa3633fed40c7216125'), HexBytes('0x767ae500dff8aa8529b201cce07a66464666f49fb885683b751ca5941364349b'), HexBytes('0xf074aa65cb057269e1e7d25984bca9518acb7d336c18bfb1251abca632d51b02'), HexBytes('0xbe140d0d28bc5547adfe42ec563ee94390b8b428f46529336e39c86e5d132df1'), HexBytes('0x20b6a69f5f4c798c8d3fc8fd0285d22c1704c1a8f37e3883317dfe671597daaf'), HexBytes('0x88d4c0c053360678c925887feb8d40393b92d6a3751a2d7187a1874fe53a40d2'), HexBytes('0xf505c89bb5ed6869c2fc1f1de8ded287c685183cd74ea7744e0d12297aaa1d64'), HexBytes('0xeb0490248256dfd529b3f8948d91beb6193f9dae6df2ce6ba2861a74e2a78924'), HexBytes('0x62b1fdf462cc68d0cad18113e3b1ed17f2c027f214cf076074202accc494f5e0'), HexBytes('0xbbfd41e9902a018d011c06107c853bad988fcdc440cf41ccf34bc8f0978e4d7f'), HexBytes('0x16937e64facd8a994fb80e5841c470cd96252b98cc8b0e47cc2461bf47f1cf70'), HexBytes('0x7ef2de049febebffa96b55d8139fe4ccb2d291864713101165fb00ce93faaf49'), HexBytes('0x75656b53de1bd95e90ccebfef0e56a0b567272b712c9623b04e1343354a23e78'), HexBytes('0x3febe8a1a47e71289a5784ed75b941c80f3754cdeb84d8735966c879ba460263'), HexBytes('0x031d0b22211ffb4331be5c11aaac2ecdf6114bec967ee3b73bf097ccc969aba4'), HexBytes('0x42e833bfee4a585ed2e32f4763077ee21dbe557877fb1620c4072324c24368fc'), HexBytes('0x4295c860afbbd6cedfb4d739ab80194477e371d2d37b96233f1ca50144eeabb6'), HexBytes('0x02eea3dad682a0285aa0352325af5580f0b4938610150b5c2931e2e0fac97356'), HexBytes('0xe3675ea7c2852ede10ae8fc1b4364d5896432375c87acde54e9df19a3d0c5ff6'), HexBytes('0x43b7b5356c185ded1f5568634ced873ae996a757507684620cfa54024c21ab0c'), HexBytes('0x9a3e64203acf70b16cf5ac275a924ec51d9faec55808bd92835f2662c50a3817'), HexBytes('0x82b37afa7e7c0ec3efd5f4ff41d375d66deb1b5c65c618f352a811c9d70817c2'), HexBytes('0xff32b9a191da93b5558bd64e0ad670d5ee5890c30abaf3e83f52993acbe5ef67'), HexBytes('0x0c91053ac5a5b531d589369da962328b18963b62a0556b0472ad7dd0254217ea'), HexBytes('0x48d1ff6d4cd93ca008bd20d6d2aac1abf596b69cf54576b6672ea94e2baeee64'), HexBytes('0x37d648ed3228c6cdf283940541844e72d089c8a8b483188509a6d8b8924bc7fc'), HexBytes('0x82b81e535282c10079fe406ae5228a136c29b0bdf24537e22c1ce2721c2752f5'), HexBytes('0x1c5ecbafde1d98d987bbf8ba8310c70a9a51ccf3e29cf36f38a8e820e39df522'), HexBytes('0x484b3be1566e01abf6cbd963924b4ec240be0b1c2dc710f15dd257ce0d99a242'), HexBytes('0x45583eca197d7b78da87dac51dbec2276ad7706a6dcee83712862ed4c3a626a4'), HexBytes('0xbecb8b7b46595f900b46a2b727c97329e7cbcf86573205ffa4c5cc6a1ff30610'), HexBytes('0x72e4f3088c76c47ccccac0be560813905d05744b3d7171f26593b0c8b34557ec'), HexBytes('0x2c237a062fee7d3477d7dd8a8fb8c95dde050a5a4649e4f5fbe6cf119c9de102'), HexBytes('0x5a9bb247207b359685fda9d1999705b077b618152f4fe5792e72ed7ff31a4455'), HexBytes('0xabca96924126c27153d3f3b75751b5a8c18be260f55d645faa2204735734c7d4'), HexBytes('0x622dbcca519f3ef61c58d0836c6e57cfd14f3a048815595efc583a5f24e8bdf2'), HexBytes('0xa6efd8f13e81a451c583af16c1d810ecc5e210ccd09b27b013b19bbf11fac8f1'), HexBytes('0xd80a42ea94f36c8959d635e8f9ff72c74493368bf1562fa35d40d9a23f13b4f5'), HexBytes('0x49f281af75148c3d0de374044ee3a6fb7b1475b990f67a3df25b3ffd7384f850'), HexBytes('0x7d4960df53fc4e591e91cc2fb370ff5188d820648f751a505abf3504713e9bae'), HexBytes('0x195239042c4a7356c8a31b2b4dd90594e03c154dc2752862f08ec6b344bca984'), HexBytes('0x74b48486f2bc2c0da7b731f6be9ecd197343395abae0de73a0fa3c4dbfc60c33'), HexBytes('0x8cc75be6ee1499fde78b661d95fba42900d2b665da57bc37101819a05b0bfcd6'), HexBytes('0x28ff4f8cfa707574894f4718bb95b046be48aab425917d7f26582232e7ab8763'), HexBytes('0xd77a19c648403ee81d13daca8e3f10f1e7ad5e58ec0c6fac8cadc5768039fbdb'), HexBytes('0xb028f49cf5a586ccffa9e9aabb4ad39fd0b7618087698c3cf29d47da77ca7259'), HexBytes('0x12622ffd1fd927d317026cd3cfaec2c64eaa8669359b27ba866fa713785a0a31'), HexBytes('0xec87f8ab2c78f52a68f1a8376600e1625a5d98f9ea0529b8e528db4a40acae09'), HexBytes('0x4d92dd8d1226e3691264df94834371928b76c0e2eb987daaf93bbe57e1d3a7e5'), HexBytes('0x5def2d436d7ae8db5f65f48fbd53faa9f2913f45efac4a3d6af71a8b99697833'), HexBytes('0x0e4061afa22e36ec7f861e84fbe2986dc734f18d01032f01065d82976fdf96c4'), HexBytes('0x549e40069702b4463b99e45eeec0f8a92c0570b01917b89e66b28a5e2731d64c'), HexBytes('0x8a1f5e7720c304b95b8578bed22c01a826dfed2852a3cca765b6032d0bafd8bd'), HexBytes('0x5140d7cd05b5bd68177268d7f976181a09c3201c9e68b2502d6c6028888daa7c'), HexBytes('0xff5e4ecc8dce9e07ae8ceeecbef44ec36fae4b5add50a989cca0e75332796f69'), HexBytes('0x5e6040dcbd62a9c933343df8a021ed63f9d55e3a0955106200415c9db3f8a0b2'), HexBytes('0x509b4d196e0747adfb05afd6f84a56696b1eb0e86174d4364b3e6b04fe3daa36'), HexBytes('0x863d27792acf56f2429d250ab247de788c0c2e2f872a5910c033c07ef99dc8e3'), HexBytes('0x11daef06326c49bfa8b0c7c2bd0b0e05e68dba6e1c07d443d29107a1d998d753'), HexBytes('0x5d19f73992bec98ce36df1671cd05511d734b923c794943b28dfa10c318e0ae1'), HexBytes('0xb83a44954ba70d87fbcac49fb899753ac4dd543de87b5b72fbc1fa96b8eddd44'), HexBytes('0x20526201b7a64ae09b79677b5bfcfd610f4b6e57e3d403f859aeae816607eba8'), HexBytes('0xfac877d006b5156a181633ae4797b3c80ed140aa635ed009bca6aa21cd718d2c'), HexBytes('0xeafb5b9f5493c6930744abd1671ff3f01d92f9e5a0655f30d8c8d6479906bdd0'), HexBytes('0xb941b2ece04e24becd5d2d806300ab9884076897415880e51161a4dcdaabbec7'), HexBytes('0xa3b97bb4aa7edc0b8943c1f1b93e8fbc6b2a5142961407d94f419570b8ab3c86'), HexBytes('0xc566f7ad7a5459b854fca8ef1111a023ab010a70c9186f3c857d9941a029e00e'), HexBytes('0x0be0b3d5d89b4c80c4ab5623dd92b75e7b79a4706c68b12f620c8b7e941ec90e'), HexBytes('0x6aab64691f9f45e771ab3708ef78cce3138af2294e562c584f190e394016311a'), HexBytes('0x1a250a47fb3746d25cd127231ff3c94f04c0553134a1ef08ef5ffaeac621302b'), HexBytes('0x0a1760913b1b71ae098bec3a57ad12dc32dfb157715c2cb5f9f7718a85d29db1'), HexBytes('0x3da2c9bb1ab3279c23d18d524b8c3b90913201b8ef7b73ac8f4fbcb35010f0c6'), HexBytes('0x7c51281a22e4d58e56e35cb7667b0a9178bd2e760543b72d26198513b840e14e'), HexBytes('0x03ee3c85c4fd635228c723f16fdace9ac089911c297046e3622026c26dded5f7'), HexBytes('0xf551299656546442e0ba8d178865466a3b8b884ff186f1a969e7a27b3d3d2bd9'), HexBytes('0x0c6831990f4a4bbfbd76d95db7d0b67949398575d4d3740e084530d1ea4bcb20'), HexBytes('0x9a89c858455696bc42ba53915762625cbf4d6a92cac3b32b04d2e309270380a4'), HexBytes('0xd3490d539e4e3a537107ade19d4937cc65974d2cdc57814d48ab4deb0068b575'), HexBytes('0xa6568cbbbe1a853e329e53981503ee4901d1d1de1eb1e1beadb688a388dd7351'), HexBytes('0xf4890b2942eee2d5c56637ac42d51f5321bf67d2c42c50516231eddf118beb30'), HexBytes('0xbef6342ccd04ed971482031bd463d5db59a62d3747cef5b168610f42cca0ea8d'), HexBytes('0x5d6708677f415d9aadcf0426cc715fed854d209af2e544693bc55cf8ac4f6fdb'), HexBytes('0xea0aa28292d4655bbd088ecdf12f2b84551ca669b58054993e724501f7b772d9'), HexBytes('0xc474f07c859ff45277caa788a8180c31d1bc09e55f57831ae455610237b1e820'), HexBytes('0xa6a13f4328144532bd09d3aaae910507048f91521601b8f243f84b09db6ca12a'), HexBytes('0x14127ffcb26a3441d7c573cae03d1b57d2b130ed9c7af8cdca38064a43fb8350'), HexBytes('0xa168561dc16cc33543e706b5acd48e5f0b43734761b6d4ae1c3fcaea3bc654ea'), HexBytes('0x859b95d331f3302860dff0cbedf9d8c18c07f32414875aefada93f08a8d2a29b'), HexBytes('0x59b63876b5d80621e769ef4ca61856afd6e919d7d6350f755c749a55ca1ea683'), HexBytes('0xa84b0ad15867933bfa95e9f80af0d6f23b0c0efcdf6f00ee57c7e4ea37c8830b'), HexBytes('0xebbb681a8b8470ee345f410bb492e9f93d6cfd579ec2d09dfeef2c83d14be77b'), HexBytes('0xcd6d42acdbe8bf78b7d99d936c28e18cda9e751395099372372e6d877c107161'), HexBytes('0xc1d7619873fba7cbdfbdfcc325830ee7aea174c8aefd3cbeb9acf81b2efd3c5c'), HexBytes('0x22478d5c9601331e39d27a213161d7b1a8473789db31cd79fa3149d3f6ee0d23'), HexBytes('0x7b8293d278386a2d7495b872ea8c16e6b8e8597d96ad23d23e0ee0c9af27b215'), HexBytes('0x57a56e82d7110b784c4da9c8941c4f6a9cb20a1ba019dd873ca878b55cc01a54'), HexBytes('0x7b082330e4faad864ebb4bb5ebae459ed0915830cffbf3c8bd3fa4cd15f51e5e'), HexBytes('0x4499c03ae9529467813611a77d6290c7af1883d970549831a2910733f007e01c'), HexBytes('0x58eacc904302388a07a50d947d25b261eadf96379626b2073c440b001bb10af6'), HexBytes('0xcec8c99bcc021ff7f97919101eef688d6b74c1562cae14161be446d1f4b8102b'), HexBytes('0xd08023177c56dd87776553d2ef757bd19d908ecf13d0f9ca52058418a834fda6'), HexBytes('0x3fdac9e91370f7a45a104f2179a51f5ada4ba50af59c9feb6ce47d9a6fc3136a'), HexBytes('0x45b634d3b55cb699cc0546831dac219f70bf91c252b965c2bffd8707d737c99c'), HexBytes('0x28ddea0f10b206129b3ceadf1d9ac450100bf7b6e00b73a1892523b91048df94'), HexBytes('0xe0d7bdf8c6b75cd6467aa7864586ddcd95874cb18f94f9e4bff706f84e5390a8'), HexBytes('0xcb278d22aed6af72de0b34398187e7b124c08b189f9ed783c2c9ca1e9de7ae4c'), HexBytes('0x27091e494094589758ac457d84a14588dd063186c4b778ed42651247ffad9a9a'), HexBytes('0xe6e29f07a82f394ff0e577e03ed758715ca89a997c447853a3890f0fe3ae7964'), HexBytes('0x1b34cbc49900d3fce977a961fa049a8c49728c424d4f04ef8e6dfa9455ce9b75'), HexBytes('0x6f4e2ccae7e6fe6c19e2141c1194707bd9b544577cf2ce27ba026c2146d7d566'), HexBytes('0x1d426357a5f27a49b258554a9b6c4510dc463edcc9d1604015829d623202e614'), HexBytes('0xf9bf2a7610f929f232a601cc93eddd76761badf4654ef14f24e1e331dde0333d'), HexBytes('0xdadc5882e39997e4dc0e0884a7bd67e7ce5fdc4307656c2765599c1b93d31e7b'), HexBytes('0xa135b4fa8589aeb36980948ba7fa6a2418e4d1af55ab829c32a8514ba08afcd8'), HexBytes('0x631f0f7761f40dfc8d0cd6efa91a01a699a9ac117488685f2ae06308badfb5bc'), HexBytes('0x8dd16e4a0ad33e6153ecd39e352c5d1a9d00b3abbbdb8ade4acefdbd7264a2b8'), HexBytes('0x659873df1f00322824113be8977ba27ce57f21a3b2b052d2f31917b3a4834525'), HexBytes('0x39dafecc8799a138e32fe085e0c21cb97de0a03175cf25d2708dfa7b3a9e891e'), HexBytes('0xb85ed65756d41edf691e53759fe7aa8b34c97a5c69e53f42b3fca5d746ebb0a7'), HexBytes('0x43735aacafcb0e48b7c3fc7eb2c128c43115467316b0f7a06c4050c57a2a3d0f'), HexBytes('0x8b4e86bcea9743c30a8698bd871af822fb1f78179bb34f2ddacf4eeba1b8b106'), HexBytes('0xb8a329c6c79373eb54ab3ef5628905f7996571b6cf7bbc24ec62d7131d119b53'), HexBytes('0xebb2857f7069f67e913a6934ff92ca443dcf75e56c2ae11548b63848f18d06e9'), HexBytes('0xd9bc804da5f5c1e314de404334ec6fbffa5e65754ca4a58404cfb199ccad1953'), HexBytes('0x65cae5778458a3c56d2e94d27053e7e521eb9c0ccf3c1433d509d4f73c54ecaa'), HexBytes('0xfb54a4fa578df859432e8759f27eaf634b476b1359dda748ddf913c821fa5811'), HexBytes('0x26581e16614815274eee014106a8eb9e783e71b5cf810106adb69b87f7157c52'), HexBytes('0xdac4f4e7d5dacb02c3d2552589ceab7c97a388211284a1325783462e926474f1'), HexBytes('0xfbdb2dddeb95c47510d86d245df1252c86cac688348f1c80a969170c346d9c00'), HexBytes('0xe4e44cb9383cba20a866c8d2f94b94f9d211e8fd897fb9925b4ab70e4e54853e'), HexBytes('0xd2e8fcf942d3a1deeab952bb8a2b40e556c9734ef565f6e71de17d50a1f125d1'), HexBytes('0xda19e469159d780e087fced6fc9373e5d3ec486e1abddfb504c5bd9331dc63db'), HexBytes('0xbbb129e7c4556a903a780348d5ad623c6190ba19463d3fa020a2e89e157a77cb'), HexBytes('0x593e61db682472cf8ae4f479693463c9efcc8534273abee5a4f963edaf0837b6'), HexBytes('0xa3556ac6f326f63c93621ac76b4e9065351ccdce5e2c6462670ba083c0932429'), HexBytes('0xf9d3bacc53bfeb106e22604a86510bab2808a895a8fac53dc074e1d88a1b85b1'), HexBytes('0x8ab2c2d3d4f92d57790c05e35d0be44e3047c5c978c59f434bbdec9b44e35e8e'), HexBytes('0xc7e14c3f03e3ceffb91f09f189f2b2ead1b211ba6fa434021e080d078320b9e9'), HexBytes('0xb707d46cb1e594bada5d514483fea8826f7043f9fea8bf20af366e9c2804f2ec'), HexBytes('0xf8b760cdbb479721a90a2be50069370b970acf8cb965829de02ec4d5910e4ed7'), HexBytes('0x0c5474512c6ca0d4b13091cec70360157e8fc8d17f92700dd47cdc9a43b948af'), HexBytes('0x3ebf9d0f1bc94de9621f34c01c26f339e1c0ffbee931aa45139f7023686ce6d2'), HexBytes('0xdc56f5b0b1ee8e066fed81ada00e14e20db6ac2cb6f7de97d24fcbdd55081eee'), HexBytes('0x93ae9f811110750f80482072b41a96e4b8bfeea42ebe72597a4fa4d0f8e71570'), HexBytes('0xdc9e8738820ef141a9c5de8e508fe046b85c4df6c0eabc366317d5cbf67247c8'), HexBytes('0xa25da7103c65657f06a4ffc381a1efe0adaac1f446343b1537b4aa23ea63a4b7'), HexBytes('0xa7c5843ce6140595de41346db8efd6218cca3f37f30c43f0d4187abd3c8be457'), HexBytes('0x7c8b9de5a37df6f582d8d4bf66e222f5d05ad86e18a57a20148cfe5ba5e8cdd4'), HexBytes('0x5a160e7adb63c87c30dfd7106b9a4386ae00084febf46f4069a5101bdbbaea81'), HexBytes('0x5537dcbea0ae50a68a369f6be10d3f853c8af453ad4e9b22ebbe87b33a652245'), HexBytes('0xbef3d65e73d995d798190e2a27187d43b819602640e25e7547c41f8a4ac1a4be'), HexBytes('0xe8f2666310068bdd4b8a0fd76fc2935bf54aa8f55d89e611c492590be2c97911'), HexBytes('0xce008e635ec7cfc398d7dc9eb50cf79d6cdf9cee8cfd47fd02fcc7b3076cf59b'), HexBytes('0xb9a0dd5b23df102a93de529e7e6086648781e87db721bebf9f4f6869ff29f345'), HexBytes('0x83a69257499986df105df57ed56689222ffdae559f448ebef309e1350e387855'), HexBytes('0xb36f71b6554674d6b79e8afc145e08a8a0ed85782ac29870c38d98899f500658'), HexBytes('0xe01df27da898288956cbf3451e7e56235c639e41ffe26e7a4ad21c7fc101c3f1'), HexBytes('0xab677252dc6fd4b7aa91360380c7a4221d6804c4d442eadc329bdb44656c06bf'), HexBytes('0x5f736a80483479347d55c7fe69a07f870616f7f073e665fc11074e229c9c1c66'), HexBytes('0x8d199ff5851a8c1378350273ad92c171731dba7ca1958a66bbdf92c6f8197624'), HexBytes('0xb4e00dcc9bc178c8bde250c2f627e0602d18acb98c613eac0845840d87007979'), HexBytes('0xf9546d905b4a246ff3a67bf19c341757ae6c6936cfb4a8c0b2038ae89baaa659'), HexBytes('0x0014a5fac1cb1b232f2c6425254569936aa7ecb63b7cdd0005b5b037d5582438'), HexBytes('0xe44df4851892a10b7534cdd7b126f6e9f8229ea9ed3c157e10d4e10cf9eb6edf'), HexBytes('0x2e22a2978aba8bc5ad29f304eddcc91f401ad189e309e5a1b799b0bf30409948'), HexBytes('0x191bd4e59413659e23f2418a3ca846fad678196d79874e813da53a45c995b191'), HexBytes('0x9c519de6a26567ebda37b78abb7392c0b76e17004f5ab434977b354e46386774'), HexBytes('0x43d770cee28eb6f27ab4af3e4088715de077719edf320896e0573ed1f1c6a6b7'), HexBytes('0x908889129b49fa8463e742ba81f71fa86edd4e14ae40c94a0d7856fe6ce9e38a'), HexBytes('0xf2bb5f284bcdd1c81a3c5efae1910992295fbc7a806111a5d87440c073faf3b2'), HexBytes('0xc977ab6bf12080dc7692c1f03bdc3f850ddf96c4cb6d24fd8382d3e32930c878'), HexBytes('0x83b9d3ced0da93bdf2b8a57ded34ed9d53599ce735a6333a4ecdd814c12d3723'), HexBytes('0xdf4a8d262284e3215913d3921acdd5eecc0ee01d9f15cc076f2f386b56bcb74f'), HexBytes('0xa354f12e5e7b5a85dcac39c99ed2841f0c25358703a51aa68aae686bbfba0eb4'), HexBytes('0xccda5a899c17851d4a2fa8aff92085e641c9b875754adb5b7643fb942a1aae9a'), HexBytes('0xf7618110532f3d8128ebe98b1452c8d80dcf55108b39e68da0ed9fd205efd0ca'), HexBytes('0x9f19de4afbc647c0e556cd131714a1cb84025cb5f2ae69cb52c145de6d0e90d4'), HexBytes('0x490e70b0c818203b5a9aad69bc6a64315c095992c7d7e35a954b331a41734de0'), HexBytes('0xa41e0bfc642c643946417a5aa66dec5522be2cfd3388ec771adb58820e2d4cbf'), HexBytes('0xcbaafb25d3080015e45b552190c8970ea13e2291bd69fcc71fc776865940a679'), HexBytes('0x077db466ef47dcb50cf5d21b0f45ce394c62ec192ac18341cd9bd9f351ef69ae'), HexBytes('0xbca6b080115fc28da38a4ee1937d6d9729c20e80cff67717aba6c64f03f663e8'), HexBytes('0x9cb5836a3def22635d4c416ee6b29ee7f3af63c21d4ae291811e36c7ab6aa6ab'), HexBytes('0x6a7c2af75fd61b3a14dc4639dabfa10ba96be601ab782969dea0c052a79e20e3'), HexBytes('0x7ea070316c0f51b583804779047c2034b8431c52107d9243ad90ac9693348bcb'), HexBytes('0xe4670b3a323e10abd9b54fa622ff3d2e6adad0632374e53743c70e92881d0797'), HexBytes('0x08769bffaed95d8b329f9b197bcb2fba06fe47af24fcb50b0a3dc0dfd4a80b64'), HexBytes('0x5a040e100564292ca3bcc9483bf8bd4a9feb39c6e806e038f18b6ed8961df106'), HexBytes('0xbabfa8c4eba19a7616070d1549c2c415d757d73e302e6b8d56c56d4f0d8027d8'), HexBytes('0x66f592ea5b4008693ae4bb203d3abed3b24fabe6e6d3bb2d905baf67f53871fb'), HexBytes('0x450dcbaf78a1cd6403c9069ec28feaa8adbfa8471fdbe353ea4cac73e6327542'), HexBytes('0xc21fd1ca0607b94cac13510e321f2c2e7b3cbc3d90abc2c7e7632a3abbbf652f'), HexBytes('0xc11e2884583cfd20dda7cfc4f1e7a8066b7d1a449b7b6a733a7343125f23a7a6'), HexBytes('0x3d38c29bab8714409d391718d20e637cd830a1a799d71d4dd10f15070060af50'), HexBytes('0x9ba3dde254bda2060e552b18acc1e3bc29bb2ec8918493f724b5952ca22749d5'), HexBytes('0x29d5eb8c5fed9c76ed9c1c0bf82f7429a6f5bab48ef07eb4ca258b8bfb9a1c36'), HexBytes('0x565c9ddbf57f2b41c39a7146c17f0e240d3c08f3f91ceb74ad34758a03db46af'), HexBytes('0x1ed20ef26404f9e61800d82497cfb04070f43a3b676f4522006266c6c2dd3f01'), HexBytes('0xdbbdec9ad0fb23e5669bcaa832d46545d312b193a37b07008470ebeb8ea7a3f2'), HexBytes('0x415fabd38aeaceb00172c0d136603cf408485749cc0a95a02432a1777c3737eb'), HexBytes('0x515963347a8a97b3b43386e4ab3ed2fafe82299940d22b417addea3179172ad2'), HexBytes('0x235cd34cb33af9a242decc4b88f1d82d0faf10d1203fde472a7a0802380db60a'), HexBytes('0x776039c174d64c5c621c94db76a3e83759d97a9c0f7454a20c8c87d3702872f6'), HexBytes('0xcd2495e383e9c4b4bde377aa019169be926ff018169f1a0ed2381063374bffd8'), HexBytes('0x4f93286bbc1f72ac5b42949e264f2353db29505a0f673748e5600fb81a668947'), HexBytes('0x7f20dca22191eb91566157a970bc3acf17503cc249e1461642a8c593738b0207'), HexBytes('0x137034177114d808c4533f2850c7ee1f8e0e71524dc5f13627a0bc156fcada16'), HexBytes('0xfe509eedd30fd49bf72076504545a59b6ecca94a92e233527c3071d02558cf18'), HexBytes('0x605e90fb87869cdd80f3a7045da375dd1556079c6b899f1e7cf763b7a5322666'), HexBytes('0x4be48f3b3b4b8f6794c9cb3ee40816830320dc0f0d36606cd0c3eda19953271d'), HexBytes('0x7068a49eeca6d9a9a85d1674a603b25914ce594b66a5133c43714a2c8b2e0d8d'), HexBytes('0xe6e546a72603c5d9e95b426e41425f018fb686dd8fbd4edc660dfe28c1d25757'), HexBytes('0x88a309aa82642a1f11abcf1d1fb7ffad206ed3cbea03b62866a63c7f6149e9be'), HexBytes('0x1983662d5b8af325e19bf2db16d3e6bbb9a0e589f3cb0657ca795b74271bfd81'), HexBytes('0xcdcb63be21a9108e39f115328e81ae4aaebfa7858ae993096597f32b0f18e677'), HexBytes('0xc7e1b00be27b5b15cdb3a0ba92cb6ec9aa89a49d710367e5df254942c9262d3f'), HexBytes('0x5cd39d64bb7b01a9aabcf08a445022b60f40e4d4e033110518602dd6a65fb3d0'), HexBytes('0x1a5cae4423c712b7251ba1316e6112592b6df0678ce4b61ce551228dff45432b'), HexBytes('0x49c0b46e135eb887d5adcbbc2ff13f92a1bdda097decf073bb39a4250cd85929'), HexBytes('0x30fd527cea8e94ec3b98b51c05c97f696782b1bbc32a9898caa06357d01c998a'), HexBytes('0xee8d7d24784e6dc9c53d7559995b6c26975c30ff280d536adf933ea224cef577'), HexBytes('0x3a6ec9aba75a28019b419a6d4dfead92bc4458458a759d96126b2c6dcccb4844'), HexBytes('0xef3a367e53083d918b1f39a5fcfda37de92922cb3a02e982f0105bf5ac07596c'), HexBytes('0xa86e58b02f90480b6642cfa7dc3135e801b5b19f7232b955463b6f1b2a28baa6'), HexBytes('0xe6030712d6322e176d63ebf25972be54b51f32d25094bbaa1ba4cc6e1dbdb559'), HexBytes('0xa868f8cb19fed4a5bbf32ada7655edf4c152c98fc4734b7beb2a0e947613e964'), HexBytes('0xd801db3404b9f719dfb3a8a60227385433530929f21381d60dd8f8c59625a2cf'), HexBytes('0xc5198bd66fd52e907a787022773b1e313f394f7883dc4298352695cb8f16c4cb'), HexBytes('0x63a3f07d1e5648fc8878ac05368aadadf37f67e97395a65f85d8cdb86de6d8c7'), HexBytes('0x191da0a6821c28f30709c63ca6419871b11ec8d6aa4f1ad0406cc733267b014a'), HexBytes('0xd1549f8733f2874f8a11e30a9b32d4036426bd4637aa4774e90e66f943541ccb'), HexBytes('0xd74b0147562c3b91377a706434e2b9cc8931c1691866132a12a49b820b4972ce'), HexBytes('0xee5e484c886f34424cfef04e9a1ace6892270e23ba1c233a956221c19d5fb3e3'), HexBytes('0xb6404e261d323c9d53696fb5cb5866f4292c835b15a0b9c30e6033428281b202'), HexBytes('0x37d148847475490f31159289065c0bdc3b868f46d0ae087f06684a019f620133'), HexBytes('0xeb9d5cf7f930999aef5689391cb24971d6b16e3507a5f8f02801a624f40094fe'), HexBytes('0x442183b5cff2ac52610a637de99e1519e175d49dbb3897ea942014d86d9bfd82'), HexBytes('0x5ab93509e47837be1001e6b289e4a0d3b04f4df87211aa555c955947d2d7eaf6'), HexBytes('0x2208da50d68cd5b333536875d70fd17c2adb86240d6899173f049314f27feea6'), HexBytes('0x87c2f06d142a970a2dac8a3b2a24ca009a9ffa45e8776f8d23406589697df677'), HexBytes('0x4f16649441b00c083175ea4f659e5d019991bd61f13500302053978a4aeb1ffd'), HexBytes('0x651f9f7fe71d9d206f373fd2ca1b0bb0f81abef584e2141c4bad0ca20e6a5286'), HexBytes('0x181f6582d655151fc323cd8a705c56d9175e5113892a96b0b39c42030ccce14a'), HexBytes('0x51a52118128a69d2fb814334f9828085def393ab19bd33003b15364475c9527c'), HexBytes('0x9d805e4ed2dd081d3f9e465bbd05b924eed6f93f07881646271e59827d5535fd'), HexBytes('0xe22f3b8f7c0f857da5b80e50c500c1b07b7b5680ad3fc82f0aa227386f925a5e'), HexBytes('0xcc0be35c638d9431f637e3fc4f07cce6e728aff82634d4a09a23c2b06d1d0265'), HexBytes('0x9e479979515d1f569188687dedd3931ebaf5e5f44cea479888fa7a67ffa18b0d'), HexBytes('0x555e9e5a00fe7008dcd914245ee28976c3cff72dc0c55ab22f0eec7f737df72b'), HexBytes('0x11727152fc799ea2ea9e8d600e6540858cf78266b0b41dbd7a557bda94f4d979'), HexBytes('0x29f930d05f83a4d9a81d4bf22b93a7125b6544f3a4c48f7a4a463a72a7b0fab0'), HexBytes('0xe6a6b357a208157834a70a98d84d486c8a9f6427974dedf0876e5502926e5c62'), HexBytes('0x53e305910760863c6791dd09602d988c7e096e41d0419212c6f168ff1aae4552'), HexBytes('0x64b7596c98bf100fdeba633513d00a470328897f606a9f3713ec8a69bc7e1151'), HexBytes('0xb6289b1db9c3d3d47942702db28b20dc810908b8592bff5930c6c6e1abdec697'), HexBytes('0x350af19d04e36d3c119283a021e266c1910c655c40d9a5a9ad78e6935a910bd8'), HexBytes('0xcffd4a8d6aa967e6dbb23e8630f869d43ae337af0a2a5c1cb6fb3fae79fbf9a2'), HexBytes('0x58b301aa13c41e4a46683f523b215bd7be8ad66914f405410eb3120760f026af'), HexBytes('0x2030f7de38bbe3b314e37e78cb3b4ec3cb3b37ae7114de10d979aa2a37c310d1'), HexBytes('0x5fd7c51f24d9236616ae48c813e2fdad6f761d29b294d993eb911b4c99fb0e0b'), HexBytes('0x2fe154f0375e2ba0b2c6e9732e17546b8bd35e86e3450b3ea72d31042a1a3c33')], 'withdrawals': [AttributeDict({'index': 95635227, 'validatorIndex': 1154658, 'address': '0x3938Fc796125eDf184B18a5C7f8Ef0704386aedE', 'amount': 19384092}), AttributeDict({'index': 95635228, 'validatorIndex': 1154659, 'address': '0x3938Fc796125eDf184B18a5C7f8Ef0704386aedE', 'amount': 19404562}), AttributeDict({'index': 95635229, 'validatorIndex': 1154660, 'address': '0x3938Fc796125eDf184B18a5C7f8Ef0704386aedE', 'amount': 19384802}), AttributeDict({'index': 95635230, 'validatorIndex': 1154661, 'address': '0x3938Fc796125eDf184B18a5C7f8Ef0704386aedE', 'amount': 19393188}), AttributeDict({'index': 95635231, 'validatorIndex': 1154663, 'address': '0x3938Fc796125eDf184B18a5C7f8Ef0704386aedE', 'amount': 19412907}), AttributeDict({'index': 95635232, 'validatorIndex': 1154664, 'address': '0x3938Fc796125eDf184B18a5C7f8Ef0704386aedE', 'amount': 19407945}), AttributeDict({'index': 95635233, 'validatorIndex': 1154665, 'address': '0x3938Fc796125eDf184B18a5C7f8Ef0704386aedE', 'amount': 19390931}), AttributeDict({'index': 95635234, 'validatorIndex': 1154666, 'address': '0x3938Fc796125eDf184B18a5C7f8Ef0704386aedE', 'amount': 19417607}), AttributeDict({'index': 95635235, 'validatorIndex': 1154667, 'address': '0x3938Fc796125eDf184B18a5C7f8Ef0704386aedE', 'amount': 19399679}), AttributeDict({'index': 95635236, 'validatorIndex': 1154669, 'address': '0x3938Fc796125eDf184B18a5C7f8Ef0704386aedE', 'amount': 19399907}), AttributeDict({'index': 95635237, 'validatorIndex': 1154670, 'address': '0x3938Fc796125eDf184B18a5C7f8Ef0704386aedE', 'amount': 19395538}), AttributeDict({'index': 95635238, 'validatorIndex': 1154671, 'address': '0x3938Fc796125eDf184B18a5C7f8Ef0704386aedE', 'amount': 19389498}), AttributeDict({'index': 95635239, 'validatorIndex': 1154672, 'address': '0x3938Fc796125eDf184B18a5C7f8Ef0704386aedE', 'amount': 19408620}), AttributeDict({'index': 95635240, 'validatorIndex': 1154673, 'address': '0x3938Fc796125eDf184B18a5C7f8Ef0704386aedE', 'amount': 66102532}), AttributeDict({'index': 95635241, 'validatorIndex': 1154674, 'address': '0x3938Fc796125eDf184B18a5C7f8Ef0704386aedE', 'amount': 19405887}), AttributeDict({'index': 95635242, 'validatorIndex': 1154675, 'address': '0x3938Fc796125eDf184B18a5C7f8Ef0704386aedE', 'amount': 19411105})]})\n"
     ]
    }
   ],
   "source": [
    "import os\n",
    "import sys\n",
    "sys.path.append(os.path.abspath(\"..\")) # set working dir\n",
    "\n",
    "from web3 import Web3\n",
    "from src.config import ALCHEMY_API_KEY\n",
    "\n",
    "ETHEREUM_RPC_URL = f\"https://eth-mainnet.g.alchemy.com/v2/{ALCHEMY_API_KEY}\"\n",
    "w3 = Web3(Web3.HTTPProvider(ETHEREUM_RPC_URL))\n",
    "print(w3.is_connected()) # check connection\n",
    "latest_block = w3.eth.get_block(\"latest\")\n",
    "print(latest_block) # latest block"
   ]
  },
  {
   "cell_type": "markdown",
   "id": "3fef6cc4",
   "metadata": {},
   "source": [
    "# Setup"
   ]
  },
  {
   "cell_type": "code",
   "execution_count": 4,
   "id": "905a1818",
   "metadata": {},
   "outputs": [
    {
     "name": "stdout",
     "output_type": "stream",
     "text": [
      "ABI saved to: /home/tobias/personal-dex-trading/notebooks/../out/1_0x7a250d5630B4cF539739dF2C5dAcb4c659F2488D_abi.json\n",
      "ABI saved to: /home/tobias/personal-dex-trading/notebooks/../out/1_0xd9e1cE17f2641f24aE83637ab66a2cca9C378B9F_abi.json\n"
     ]
    }
   ],
   "source": [
    "from src.utils.retrieveAbi import save_abi_to_file\n",
    "from src.config import MAINNET_UNISWAP_V2_ROUTER_02, MAINNET_SUSHISWAP_ROUTER_ADDRESS, CHAINID_MAINNET\n",
    "\n",
    "# Load ABIs\n",
    "save_abi_to_file(MAINNET_UNISWAP_V2_ROUTER_02) # uniswap v2 router abi\n",
    "save_abi_to_file(MAINNET_SUSHISWAP_ROUTER_ADDRESS) # sushiswap router abi"
   ]
  },
  {
   "cell_type": "markdown",
   "id": "b7a83d01",
   "metadata": {},
   "source": [
    "# Contract Interactions"
   ]
  },
  {
   "cell_type": "code",
   "execution_count": 5,
   "id": "b40a2276",
   "metadata": {},
   "outputs": [],
   "source": [
    "import time\n",
    "from src.utils.retrieveAbi import load_abi\n",
    "\n",
    "def get_amounts_out(token1_address, token2_address, amount_in, router_contract):\n",
    "    \"\"\"Uses w3 getAmountsOut function to return amounts out, given two tokens, router contract and amount in\"\"\"\n",
    "    token1_address = Web3.to_checksum_address(token1_address)\n",
    "    token2_address = Web3.to_checksum_address(token2_address)\n",
    "    path = [token1_address, token2_address]\n",
    "    amounts_out = router_contract.functions.getAmountsOut(amount_in, path).call()\n",
    "    return w3.from_wei(amounts_out[-1], 'ether')"
   ]
  },
  {
   "cell_type": "code",
   "execution_count": 6,
   "id": "30a2c7c5",
   "metadata": {},
   "outputs": [
    {
     "name": "stdout",
     "output_type": "stream",
     "text": [
      "Block 23012168 | Uniswap: 1 ETH ≈ 3821.839405525931914452 DAI | Sushiswap: 1 ETH ≈ 3821.366829372867942771 | Delta = 0.472576153063971681\n",
      "Stopped by user.\n"
     ]
    }
   ],
   "source": [
    "# uniswap\n",
    "uniswap_router_abi = load_abi(MAINNET_UNISWAP_V2_ROUTER_02, CHAINID_MAINNET)\n",
    "uniswap_router_address = Web3.to_checksum_address(MAINNET_UNISWAP_V2_ROUTER_02)\n",
    "uniswap_router_contract = w3.eth.contract(address=uniswap_router_address, abi=uniswap_router_abi)\n",
    "uniswap_weth_address = \"0xC02aaa39b223FE8D0A0e5C4F27eAD9083C756Cc2\"\n",
    "uniswap_dai_address = \"0x6B175474E89094C44Da98b954EedeAC495271d0F\"\n",
    "uniswap_amount_in = w3.to_wei(1, \"ether\")\n",
    "\n",
    "# sushiswap\n",
    "sushiswap_router_abi = load_abi(MAINNET_SUSHISWAP_ROUTER_ADDRESS, CHAINID_MAINNET)\n",
    "sushiswap_router_address = Web3.to_checksum_address(MAINNET_SUSHISWAP_ROUTER_ADDRESS)\n",
    "sushiswap_router_contract = w3.eth.contract(address=sushiswap_router_address, abi=sushiswap_router_abi)\n",
    "sushiswap_weth_address = \"0xC02aaa39b223FE8D0A0e5C4F27eAD9083C756Cc2\"\n",
    "sushiswap_dai_address = \"0x6B175474E89094C44Da98b954EedeAC495271d0F\"\n",
    "sushiswap_amount_in = w3.to_wei(1, \"ether\")\n",
    "\n",
    "try:\n",
    "    prev_block=0\n",
    "    while True:\n",
    "        block = w3.eth.block_number\n",
    "        uniswap_amount_out = get_amounts_out(uniswap_weth_address, uniswap_dai_address, uniswap_amount_in, uniswap_router_contract)\n",
    "        sushiswap_amount_out = get_amounts_out(sushiswap_weth_address, sushiswap_dai_address, sushiswap_amount_in, sushiswap_router_contract)\n",
    "        if block > prev_block:\n",
    "            print(f\"Block {block} | Uniswap: 1 ETH ≈ {uniswap_amount_out} DAI | Sushiswap: 1 ETH ≈ {sushiswap_amount_out} | Delta = {uniswap_amount_out-sushiswap_amount_out}\")\n",
    "            prev_block = block\n",
    "        time.sleep(1)\n",
    "except KeyboardInterrupt:\n",
    "    print(\"Stopped by user.\")"
   ]
  },
  {
   "cell_type": "markdown",
   "id": "31b60895",
   "metadata": {},
   "source": [
    "# Binance API"
   ]
  },
  {
   "cell_type": "code",
   "execution_count": 8,
   "id": "60646e2e",
   "metadata": {},
   "outputs": [],
   "source": [
    "from binance.client import Client\n",
    "from src.config import BINANCE_API_KEY, BINANCE_API_SECRET"
   ]
  },
  {
   "cell_type": "code",
   "execution_count": 9,
   "id": "10a4d3af",
   "metadata": {},
   "outputs": [],
   "source": [
    "client = Client(BINANCE_API_KEY, BINANCE_API_SECRET)\n",
    "\n",
    "def get_order_book(symbol='ETHUSDC', limit=100):\n",
    "    \"\"\"\n",
    "    Holt das Orderbuch für ein Handelspaar (symbol).\n",
    "    limit bestimmt, wie viele Bids und Asks abgerufen werden.\n",
    "    \"\"\"\n",
    "    order_book = client.get_order_book(symbol=symbol, limit=limit)\n",
    "    bids = order_book['bids']  # Liste von [Preis, Menge]\n",
    "    asks = order_book['asks']\n",
    "\n",
    "    print(f\"Orderbuch für {symbol}:\")\n",
    "    print(\"Top Bids:\")\n",
    "    for price, qty in bids:\n",
    "        print(f\"Preis: {price}, Menge: {qty}\")\n",
    "    print(\"Top Asks:\")\n",
    "    for price, qty in asks:\n",
    "        print(f\"Preis: {price}, Menge: {qty}\")"
   ]
  },
  {
   "cell_type": "code",
   "execution_count": 10,
   "id": "189dd858",
   "metadata": {},
   "outputs": [
    {
     "name": "stdout",
     "output_type": "stream",
     "text": [
      "Orderbuch für ETHUSDC:\n",
      "Top Bids:\n",
      "Preis: 3847.10000000, Menge: 0.00130000\n",
      "Preis: 3847.00000000, Menge: 1.34000000\n",
      "Preis: 3846.96000000, Menge: 0.00130000\n",
      "Preis: 3846.93000000, Menge: 0.00680000\n",
      "Preis: 3846.92000000, Menge: 3.91050000\n",
      "Preis: 3846.90000000, Menge: 1.34000000\n",
      "Preis: 3846.84000000, Menge: 0.00260000\n",
      "Preis: 3846.79000000, Menge: 0.00280000\n",
      "Preis: 3846.74000000, Menge: 0.00480000\n",
      "Preis: 3846.73000000, Menge: 2.46430000\n",
      "Preis: 3846.72000000, Menge: 0.00130000\n",
      "Preis: 3846.71000000, Menge: 0.59800000\n",
      "Preis: 3846.61000000, Menge: 1.71370000\n",
      "Preis: 3846.60000000, Menge: 0.00260000\n",
      "Preis: 3846.55000000, Menge: 0.00400000\n",
      "Preis: 3846.53000000, Menge: 3.27500000\n",
      "Preis: 3846.52000000, Menge: 0.40000000\n",
      "Preis: 3846.49000000, Menge: 2.60700000\n",
      "Preis: 3846.48000000, Menge: 4.10120000\n",
      "Preis: 3846.47000000, Menge: 4.96680000\n",
      "Preis: 3846.46000000, Menge: 15.77430000\n",
      "Preis: 3846.44000000, Menge: 0.40000000\n",
      "Preis: 3846.43000000, Menge: 0.19000000\n",
      "Preis: 3846.42000000, Menge: 0.80000000\n",
      "Preis: 3846.38000000, Menge: 1.82630000\n",
      "Preis: 3846.36000000, Menge: 0.00200000\n",
      "Preis: 3846.27000000, Menge: 0.00130000\n",
      "Preis: 3846.17000000, Menge: 0.00400000\n",
      "Preis: 3846.16000000, Menge: 3.04360000\n",
      "Preis: 3846.15000000, Menge: 3.91060000\n",
      "Preis: 3846.14000000, Menge: 5.66950000\n",
      "Preis: 3846.06000000, Menge: 0.25980000\n",
      "Preis: 3846.05000000, Menge: 0.03510000\n",
      "Preis: 3846.01000000, Menge: 0.00140000\n",
      "Preis: 3845.98000000, Menge: 0.00200000\n",
      "Preis: 3845.94000000, Menge: 5.45910000\n",
      "Preis: 3845.93000000, Menge: 5.20180000\n",
      "Preis: 3845.83000000, Menge: 2.08230000\n",
      "Preis: 3845.81000000, Menge: 4.05860000\n",
      "Preis: 3845.79000000, Menge: 6.84950000\n",
      "Preis: 3845.70000000, Menge: 1.07460000\n",
      "Preis: 3845.69000000, Menge: 2.91360000\n",
      "Preis: 3845.64000000, Menge: 0.31190000\n",
      "Preis: 3845.60000000, Menge: 0.00200000\n",
      "Preis: 3845.41000000, Menge: 0.00200000\n",
      "Preis: 3845.36000000, Menge: 0.01290000\n",
      "Preis: 3845.35000000, Menge: 2.34610000\n",
      "Preis: 3845.33000000, Menge: 3.91060000\n",
      "Preis: 3845.30000000, Menge: 3.90920000\n",
      "Preis: 3845.22000000, Menge: 0.00200000\n",
      "Preis: 3845.19000000, Menge: 1.37180000\n",
      "Preis: 3845.16000000, Menge: 0.00950000\n",
      "Preis: 3845.12000000, Menge: 4.88770000\n",
      "Preis: 3845.03000000, Menge: 0.00200000\n",
      "Preis: 3844.89000000, Menge: 0.30230000\n",
      "Preis: 3844.88000000, Menge: 0.00200000\n",
      "Preis: 3844.86000000, Menge: 1.64340000\n",
      "Preis: 3844.85000000, Menge: 5.47610000\n",
      "Preis: 3844.84000000, Menge: 2.39150000\n",
      "Preis: 3844.83000000, Menge: 2.60700000\n",
      "Preis: 3844.81000000, Menge: 2.08230000\n",
      "Preis: 3844.80000000, Menge: 2.60090000\n",
      "Preis: 3844.73000000, Menge: 3.27370000\n",
      "Preis: 3844.65000000, Menge: 0.00200000\n",
      "Preis: 3844.60000000, Menge: 1.98440000\n",
      "Preis: 3844.59000000, Menge: 6.73700000\n",
      "Preis: 3844.46000000, Menge: 0.00200000\n",
      "Preis: 3844.45000000, Menge: 1.29200000\n",
      "Preis: 3844.44000000, Menge: 6.90050000\n",
      "Preis: 3844.33000000, Menge: 3.90920000\n",
      "Preis: 3844.31000000, Menge: 0.94100000\n",
      "Preis: 3844.30000000, Menge: 3.27370000\n",
      "Preis: 3844.27000000, Menge: 0.00200000\n",
      "Preis: 3844.12000000, Menge: 0.81140000\n",
      "Preis: 3844.08000000, Menge: 0.00200000\n",
      "Preis: 3843.98000000, Menge: 2.70780000\n",
      "Preis: 3843.91000000, Menge: 3.27370000\n",
      "Preis: 3843.89000000, Menge: 0.00200000\n",
      "Preis: 3843.70000000, Menge: 0.00200000\n",
      "Preis: 3843.64000000, Menge: 2.60700000\n",
      "Preis: 3843.62000000, Menge: 2.08230000\n",
      "Preis: 3843.59000000, Menge: 0.81140000\n",
      "Preis: 3843.53000000, Menge: 3.90920000\n",
      "Preis: 3843.52000000, Menge: 3.90920000\n",
      "Preis: 3843.51000000, Menge: 0.00200000\n",
      "Preis: 3843.49000000, Menge: 3.27370000\n",
      "Preis: 3843.35000000, Menge: 32.58140000\n",
      "Preis: 3843.32000000, Menge: 0.00200000\n",
      "Preis: 3843.13000000, Menge: 0.00200000\n",
      "Preis: 3843.11000000, Menge: 0.01690000\n",
      "Preis: 3842.99000000, Menge: 4.08510000\n",
      "Preis: 3842.97000000, Menge: 0.00200000\n",
      "Preis: 3842.85000000, Menge: 5.20040000\n",
      "Preis: 3842.75000000, Menge: 2.60430000\n",
      "Preis: 3842.72000000, Menge: 2.08230000\n",
      "Preis: 3842.69000000, Menge: 2.60230000\n",
      "Preis: 3842.61000000, Menge: 2.60700000\n",
      "Preis: 3842.60000000, Menge: 9.89070000\n",
      "Preis: 3842.56000000, Menge: 0.00200000\n",
      "Preis: 3842.45000000, Menge: 0.81140000\n",
      "Top Asks:\n",
      "Preis: 3847.11000000, Menge: 11.59950000\n",
      "Preis: 3847.20000000, Menge: 1.34000000\n",
      "Preis: 3847.31000000, Menge: 9.78600000\n",
      "Preis: 3847.32000000, Menge: 4.15260000\n",
      "Preis: 3847.33000000, Menge: 0.71400000\n",
      "Preis: 3847.37000000, Menge: 0.41250000\n",
      "Preis: 3847.39000000, Menge: 0.00130000\n",
      "Preis: 3847.40000000, Menge: 4.61500000\n",
      "Preis: 3847.45000000, Menge: 0.81140000\n",
      "Preis: 3847.51000000, Menge: 0.00200000\n",
      "Preis: 3847.52000000, Menge: 1.76670000\n",
      "Preis: 3847.53000000, Menge: 0.48000000\n",
      "Preis: 3847.59000000, Menge: 0.59800000\n",
      "Preis: 3847.60000000, Menge: 1.34000000\n",
      "Preis: 3847.62000000, Menge: 0.40000000\n",
      "Preis: 3847.64000000, Menge: 1.29940000\n",
      "Preis: 3847.74000000, Menge: 0.36720000\n",
      "Preis: 3847.75000000, Menge: 0.41250000\n",
      "Preis: 3847.76000000, Menge: 0.81140000\n",
      "Preis: 3847.89000000, Menge: 0.00200000\n",
      "Preis: 3847.90000000, Menge: 1.22290000\n",
      "Preis: 3847.91000000, Menge: 3.27500000\n",
      "Preis: 3848.01000000, Menge: 0.00130000\n",
      "Preis: 3848.09000000, Menge: 1.24330000\n",
      "Preis: 3848.10000000, Menge: 1.34000000\n",
      "Preis: 3848.13000000, Menge: 0.24000000\n",
      "Preis: 3848.15000000, Menge: 2.40000000\n",
      "Preis: 3848.20000000, Menge: 0.37570000\n",
      "Preis: 3848.27000000, Menge: 3.13070000\n",
      "Preis: 3848.28000000, Menge: 4.10250000\n",
      "Preis: 3848.29000000, Menge: 4.01170000\n",
      "Preis: 3848.33000000, Menge: 2.38440000\n",
      "Preis: 3848.39000000, Menge: 0.00930000\n",
      "Preis: 3848.40000000, Menge: 0.00130000\n",
      "Preis: 3848.41000000, Menge: 3.27500000\n",
      "Preis: 3848.42000000, Menge: 5.20170000\n",
      "Preis: 3848.45000000, Menge: 0.00200000\n",
      "Preis: 3848.48000000, Menge: 0.79060000\n",
      "Preis: 3848.54000000, Menge: 2.38440000\n",
      "Preis: 3848.63000000, Menge: 0.24750000\n",
      "Preis: 3848.64000000, Menge: 0.00200000\n",
      "Preis: 3848.65000000, Menge: 0.00200000\n",
      "Preis: 3848.68000000, Menge: 1.63410000\n",
      "Preis: 3848.74000000, Menge: 0.18710000\n",
      "Preis: 3848.83000000, Menge: 2.08430000\n",
      "Preis: 3848.85000000, Menge: 2.23560000\n",
      "Preis: 3848.86000000, Menge: 2.60700000\n",
      "Preis: 3848.87000000, Menge: 0.25990000\n",
      "Preis: 3848.88000000, Menge: 0.00130000\n",
      "Preis: 3848.89000000, Menge: 3.27370000\n",
      "Preis: 3848.91000000, Menge: 0.00420000\n",
      "Preis: 3848.94000000, Menge: 0.01660000\n",
      "Preis: 3848.97000000, Menge: 0.24760000\n",
      "Preis: 3848.98000000, Menge: 0.90920000\n",
      "Preis: 3849.00000000, Menge: 0.63660000\n",
      "Preis: 3849.02000000, Menge: 0.00350000\n",
      "Preis: 3849.03000000, Menge: 0.00200000\n",
      "Preis: 3849.05000000, Menge: 0.00320000\n",
      "Preis: 3849.06000000, Menge: 0.00510000\n",
      "Preis: 3849.08000000, Menge: 0.00210000\n",
      "Preis: 3849.14000000, Menge: 0.00210000\n",
      "Preis: 3849.21000000, Menge: 0.00200000\n",
      "Preis: 3849.22000000, Menge: 0.00210000\n",
      "Preis: 3849.23000000, Menge: 0.10330000\n",
      "Preis: 3849.29000000, Menge: 0.11390000\n",
      "Preis: 3849.32000000, Menge: 0.00140000\n",
      "Preis: 3849.33000000, Menge: 1.99360000\n",
      "Preis: 3849.34000000, Menge: 5.83190000\n",
      "Preis: 3849.36000000, Menge: 2.59780000\n",
      "Preis: 3849.40000000, Menge: 3.79640000\n",
      "Preis: 3849.41000000, Menge: 3.27880000\n",
      "Preis: 3849.44000000, Menge: 0.00310000\n",
      "Preis: 3849.45000000, Menge: 5.53780000\n",
      "Preis: 3849.47000000, Menge: 0.00610000\n",
      "Preis: 3849.49000000, Menge: 0.77990000\n",
      "Preis: 3849.50000000, Menge: 0.00930000\n",
      "Preis: 3849.51000000, Menge: 0.04000000\n",
      "Preis: 3849.52000000, Menge: 0.23380000\n",
      "Preis: 3849.53000000, Menge: 0.05240000\n",
      "Preis: 3849.59000000, Menge: 0.00200000\n",
      "Preis: 3849.60000000, Menge: 0.00140000\n",
      "Preis: 3849.63000000, Menge: 3.94740000\n",
      "Preis: 3849.64000000, Menge: 6.51610000\n",
      "Preis: 3849.65000000, Menge: 0.00150000\n",
      "Preis: 3849.66000000, Menge: 0.01920000\n",
      "Preis: 3849.69000000, Menge: 0.00350000\n",
      "Preis: 3849.70000000, Menge: 0.25980000\n",
      "Preis: 3849.72000000, Menge: 0.00140000\n",
      "Preis: 3849.74000000, Menge: 0.05240000\n",
      "Preis: 3849.78000000, Menge: 3.12940000\n",
      "Preis: 3849.79000000, Menge: 7.93420000\n",
      "Preis: 3849.80000000, Menge: 3.27520000\n",
      "Preis: 3849.85000000, Menge: 2.60910000\n",
      "Preis: 3849.88000000, Menge: 14.97000000\n",
      "Preis: 3849.89000000, Menge: 0.44570000\n",
      "Preis: 3849.90000000, Menge: 0.00210000\n",
      "Preis: 3849.94000000, Menge: 0.00400000\n",
      "Preis: 3849.96000000, Menge: 0.10000000\n",
      "Preis: 3849.97000000, Menge: 0.00200000\n",
      "Preis: 3849.98000000, Menge: 5.02530000\n"
     ]
    }
   ],
   "source": [
    "get_order_book()"
   ]
  },
  {
   "cell_type": "markdown",
   "id": "2af4a803",
   "metadata": {},
   "source": [
    "# Unichain"
   ]
  },
  {
   "cell_type": "code",
   "execution_count": 11,
   "id": "ed89b540",
   "metadata": {},
   "outputs": [
    {
     "name": "stdout",
     "output_type": "stream",
     "text": [
      "ABI saved to: /home/tobias/personal-dex-trading/notebooks/../out/130_0xEf740bf23aCaE26f6492B10de645D6B98dC8Eaf3_abi.json\n",
      "ABI saved to: /home/tobias/personal-dex-trading/notebooks/../out/130_0x284F11109359a7e1306C3e447ef14D38400063FF_abi.json\n"
     ]
    }
   ],
   "source": [
    "from src.utils.retrieveAbi import save_abi_to_file, load_abi\n",
    "from src.config import (\n",
    "    UNICHAIN_UNIVERSAL_ROUTER_V2_ADDRESS, CHAINID_UNICHAIN,\n",
    "    UNICHAIN_UNISWAP_V2_ROUTER_02, UNICHAIN_WETH, UNICHAIN_USDC,\n",
    "    ALCHEMY_UNICHAIN_BASE_RPC_URL)\n",
    "\n",
    "save_abi_to_file(UNICHAIN_UNIVERSAL_ROUTER_V2_ADDRESS, chain_id=CHAINID_UNICHAIN)\n",
    "save_abi_to_file(UNICHAIN_UNISWAP_V2_ROUTER_02, chain_id=CHAINID_UNICHAIN)"
   ]
  },
  {
   "cell_type": "code",
   "execution_count": 14,
   "id": "cbe16a4f",
   "metadata": {},
   "outputs": [
    {
     "name": "stdout",
     "output_type": "stream",
     "text": [
      "True\n",
      "22891319\n"
     ]
    }
   ],
   "source": [
    "WETH_AMOUNT_IN = 0.01\n",
    "USDC_AMOUNT_IN = 38\n",
    "weth_wei_amount_in = w3.to_wei(WETH_AMOUNT_IN, \"ether\")\n",
    "usdc_amounts_in = USDC_AMOUNT_IN * 10 ** 6 # USDC has 6 decimals\n",
    "\n",
    "router_address = Web3.to_checksum_address(UNICHAIN_UNISWAP_V2_ROUTER_02)\n",
    "router_abi = load_abi(router_address, CHAINID_UNICHAIN)\n",
    "router_contract = w3.eth.contract(address=router_address, abi=router_abi)\n",
    "\n",
    "alchemy_rpc_url = f\"{ALCHEMY_UNICHAIN_BASE_RPC_URL}{ALCHEMY_API_KEY}\"\n",
    "w3 = Web3(Web3.HTTPProvider(alchemy_rpc_url))\n",
    "print(w3.is_connected()) # check connection\n",
    "latest_block = w3.eth.get_block(\"latest\")\n",
    "print(latest_block.number) # latest block number"
   ]
  },
  {
   "cell_type": "code",
   "execution_count": null,
   "id": "49c154b1",
   "metadata": {},
   "outputs": [
    {
     "name": "stdout",
     "output_type": "stream",
     "text": [
      "Input Amount (WETH): 0.01 WETH\n",
      "Output Amount (USDC): 38.065715 USDC\n",
      "----\n",
      "Input Amount (USDC): 38 USDC\n",
      "Output Amount (WETH): 0.009818539196402442 WETH \n"
     ]
    }
   ],
   "source": [
    "amounts_out = router_contract.functions.getAmountsOut(weth_wei_amount_in, [UNICHAIN_WETH, UNICHAIN_USDC]).call()\n",
    "print(f\"Input Amount (WETH): {WETH_AMOUNT_IN} WETH\")\n",
    "print(f\"Output Amount (USDC): {amounts_out[-1] / (10 ** 6)} USDC\")  # USDC has 6 decimals\n",
    "print(f\"----\")\n",
    "amounts_out_reverse = router_contract.functions.getAmountsOut(usdc_amounts_in, [UNICHAIN_USDC, UNICHAIN_WETH]).call()\n",
    "print(f\"Input Amount (USDC): {USDC_AMOUNT_IN} USDC\")\n",
    "print(f\"Output Amount (WETH): {w3.from_wei(amounts_out_reverse[-1], \"ether\")} WETH \")  # USDC has 6 decimals"
   ]
  },
  {
   "cell_type": "markdown",
   "id": "e7b20cb5",
   "metadata": {},
   "source": [
    "Next, we can either do:\n",
    "- arbitrage between Uniswap v2 and Binance \n"
   ]
  },
  {
   "cell_type": "code",
   "execution_count": null,
   "id": "68a936e8",
   "metadata": {},
   "outputs": [],
   "source": []
  },
  {
   "cell_type": "markdown",
   "id": "e35b3b21",
   "metadata": {},
   "source": [
    "- arbitrage between Uniswap v2 and v4 pools"
   ]
  },
  {
   "cell_type": "code",
   "execution_count": null,
   "id": "afe9e598",
   "metadata": {},
   "outputs": [],
   "source": []
  },
  {
   "cell_type": "markdown",
   "id": "b31b6814",
   "metadata": {},
   "source": []
  }
 ],
 "metadata": {
  "kernelspec": {
   "display_name": ".venv (3.12.3)",
   "language": "python",
   "name": "python3"
  },
  "language_info": {
   "codemirror_mode": {
    "name": "ipython",
    "version": 3
   },
   "file_extension": ".py",
   "mimetype": "text/x-python",
   "name": "python",
   "nbconvert_exporter": "python",
   "pygments_lexer": "ipython3",
   "version": "3.12.3"
  }
 },
 "nbformat": 4,
 "nbformat_minor": 5
}
