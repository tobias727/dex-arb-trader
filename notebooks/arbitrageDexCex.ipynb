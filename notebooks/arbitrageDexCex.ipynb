{
 "cells": [
  {
   "cell_type": "code",
   "execution_count": null,
   "id": "9acc0237",
   "metadata": {},
   "outputs": [],
   "source": [
    "import os\n",
    "import sys\n",
    "sys.path.append(os.path.abspath(\"..\")) # set working dir\n",
    "\n",
    "from web3 import Web3\n",
    "from src.config import ALCHEMY_API_KEY\n",
    "\n",
    "ETHEREUM_RPC_URL = f\"https://eth-mainnet.g.alchemy.com/v2/{ALCHEMY_API_KEY}\"\n",
    "w3 = Web3(Web3.HTTPProvider(ETHEREUM_RPC_URL))\n",
    "print(w3.is_connected()) # check connection\n",
    "latest_block = w3.eth.get_block(\"latest\")\n",
    "print(latest_block) # latest block"
   ]
  },
  {
   "cell_type": "markdown",
   "id": "3fef6cc4",
   "metadata": {},
   "source": [
    "# Setup"
   ]
  },
  {
   "cell_type": "code",
   "execution_count": null,
   "id": "905a1818",
   "metadata": {},
   "outputs": [],
   "source": [
    "from src.utils.retrieveAbi import save_abi_to_file\n",
    "from src.config import MAINNET_UNISWAP_V2_ROUTER_02, MAINNET_SUSHISWAP_ROUTER_ADDRESS, CHAINID_MAINNET\n",
    "\n",
    "# Load ABIs\n",
    "save_abi_to_file(MAINNET_UNISWAP_V2_ROUTER_02) # uniswap v2 router abi\n",
    "save_abi_to_file(MAINNET_SUSHISWAP_ROUTER_ADDRESS) # sushiswap router abi"
   ]
  },
  {
   "cell_type": "markdown",
   "id": "b7a83d01",
   "metadata": {},
   "source": [
    "# Contract Interactions"
   ]
  },
  {
   "cell_type": "code",
   "execution_count": null,
   "id": "b40a2276",
   "metadata": {},
   "outputs": [],
   "source": [
    "import time\n",
    "from src.utils.retrieveAbi import load_abi\n",
    "\n",
    "def get_amounts_out(token1_address, token2_address, amount_in, router_contract):\n",
    "    \"\"\"Uses w3 getAmountsOut function to return amounts out, given two tokens, router contract and amount in\"\"\"\n",
    "    token1_address = Web3.to_checksum_address(token1_address)\n",
    "    token2_address = Web3.to_checksum_address(token2_address)\n",
    "    path = [token1_address, token2_address]\n",
    "    amounts_out = router_contract.functions.getAmountsOut(amount_in, path).call()\n",
    "    return w3.from_wei(amounts_out[-1], 'ether')"
   ]
  },
  {
   "cell_type": "code",
   "execution_count": null,
   "id": "30a2c7c5",
   "metadata": {},
   "outputs": [],
   "source": [
    "# uniswap\n",
    "uniswap_router_abi = load_abi(MAINNET_UNISWAP_V2_ROUTER_02, CHAINID_MAINNET)\n",
    "uniswap_router_address = Web3.to_checksum_address(MAINNET_UNISWAP_V2_ROUTER_02)\n",
    "uniswap_router_contract = w3.eth.contract(address=uniswap_router_address, abi=uniswap_router_abi)\n",
    "uniswap_weth_address = \"0xC02aaa39b223FE8D0A0e5C4F27eAD9083C756Cc2\"\n",
    "uniswap_dai_address = \"0x6B175474E89094C44Da98b954EedeAC495271d0F\"\n",
    "uniswap_amount_in = w3.to_wei(1, \"ether\")\n",
    "\n",
    "# sushiswap\n",
    "sushiswap_router_abi = load_abi(MAINNET_SUSHISWAP_ROUTER_ADDRESS, CHAINID_MAINNET)\n",
    "sushiswap_router_address = Web3.to_checksum_address(MAINNET_SUSHISWAP_ROUTER_ADDRESS)\n",
    "sushiswap_router_contract = w3.eth.contract(address=sushiswap_router_address, abi=sushiswap_router_abi)\n",
    "sushiswap_weth_address = \"0xC02aaa39b223FE8D0A0e5C4F27eAD9083C756Cc2\"\n",
    "sushiswap_dai_address = \"0x6B175474E89094C44Da98b954EedeAC495271d0F\"\n",
    "sushiswap_amount_in = w3.to_wei(1, \"ether\")\n",
    "\n",
    "try:\n",
    "    prev_block=0\n",
    "    while True:\n",
    "        block = w3.eth.block_number\n",
    "        uniswap_amount_out = get_amounts_out(uniswap_weth_address, uniswap_dai_address, uniswap_amount_in, uniswap_router_contract)\n",
    "        sushiswap_amount_out = get_amounts_out(sushiswap_weth_address, sushiswap_dai_address, sushiswap_amount_in, sushiswap_router_contract)\n",
    "        if block > prev_block:\n",
    "            print(f\"Block {block} | Uniswap: 1 ETH ≈ {uniswap_amount_out} DAI | Sushiswap: 1 ETH ≈ {sushiswap_amount_out} | Delta = {uniswap_amount_out-sushiswap_amount_out}\")\n",
    "            prev_block = block\n",
    "        time.sleep(1)\n",
    "except KeyboardInterrupt:\n",
    "    print(\"Stopped by user.\")"
   ]
  },
  {
   "cell_type": "markdown",
   "id": "31b60895",
   "metadata": {},
   "source": [
    "# Binance API"
   ]
  },
  {
   "cell_type": "code",
   "execution_count": null,
   "id": "9c0a31fb",
   "metadata": {},
   "outputs": [],
   "source": [
    "import pandas as pd\n",
    "\n",
    "# Load the CSV\n",
    "df = pd.read_csv(\"/home/tobias/personal-dex-trading/src/binance/order_book.csv\", index_col=\"time\")\n",
    "print(df.head())  # Display the first few rows\n",
    "print(df.columns)  # Check the column names\n"
   ]
  },
  {
   "cell_type": "code",
   "execution_count": null,
   "id": "cfc6b041",
   "metadata": {},
   "outputs": [],
   "source": [
    "import ast  # To convert strings back into lists\n",
    "\n",
    "# Expand top bid and ask into separate columns with prices and quantities\n",
    "def parse_order(order_list_str):\n",
    "    try:\n",
    "        # Convert the string to a list (e.g., '[[\"3789.95000000\", \"0.00280000\"]]' -> [['3789.95000000', '0.00280000']])\n",
    "        orders = ast.literal_eval(order_list_str)\n",
    "        if len(orders) > 0:\n",
    "            # Return the first price and quantity (top of the order book)\n",
    "            return float(orders[0][0]), float(orders[0][1])\n",
    "        else:\n",
    "            return None, None\n",
    "    except (ValueError, SyntaxError):\n",
    "        return None, None\n",
    "\n",
    "# Apply parsing to extract the top bid and ask\n",
    "df[['bid_price', 'bid_quantity']] = df['bids'].apply(parse_order).apply(pd.Series)\n",
    "df[['ask_price', 'ask_quantity']] = df['asks'].apply(parse_order).apply(pd.Series)\n",
    "\n",
    "# Drop nested lists columns if no longer needed\n",
    "df = df.drop(columns=['bids', 'asks'])\n",
    "\n",
    "# Preview the result\n",
    "print(df.head())\n"
   ]
  },
  {
   "cell_type": "code",
   "execution_count": null,
   "id": "2dd1942b",
   "metadata": {},
   "outputs": [],
   "source": []
  },
  {
   "cell_type": "code",
   "execution_count": null,
   "id": "1df8ffd3",
   "metadata": {},
   "outputs": [],
   "source": []
  },
  {
   "cell_type": "code",
   "execution_count": null,
   "id": "60646e2e",
   "metadata": {},
   "outputs": [],
   "source": [
    "from src.binance.order_book import BinanceClient\n",
    "binance_client = BinanceClient()"
   ]
  },
  {
   "cell_type": "code",
   "execution_count": null,
   "id": "a9fdaab2",
   "metadata": {},
   "outputs": [],
   "source": [
    "\"wss://stream.binance.com:9443/ws/ethusdc@depth10@1000ms\" # 10 depth, 1 sec"
   ]
  },
  {
   "cell_type": "code",
   "execution_count": null,
   "id": "2a03b3d9",
   "metadata": {},
   "outputs": [],
   "source": [
    "import time\n",
    "import datetime\n",
    "from binance import ThreadedWebsocketManager\n",
    "from src.config import BINANCE_API_KEY, BINANCE_API_SECRET\n",
    "\n",
    "def handle_book_ticker(msg):\n",
    "    ts = datetime.datetime.now()\n",
    "    print(f\"[{ts}] Symbol: {msg['s']}, Bid: {msg['b']}, Ask: {msg['a']}\")\n",
    "    # Du kannst hier auch in eine CSV oder Datenbank loggen, z. B.:\n",
    "    # df = pd.DataFrame([{\n",
    "    #     'timestamp': ts,\n",
    "    #     'symbol': msg['s'],\n",
    "    #     'bid_price': float(msg['b']),\n",
    "    #     'ask_price': float(msg['a']),\n",
    "    # }])\n",
    "    # df.to_csv('ethusdc_quotes.csv', mode='a', header=False, index=False)\n",
    "\n",
    "# Starte den WebSocket Manager\n",
    "twm = ThreadedWebsocketManager(api_key=BINANCE_API_KEY, api_secret=BINANCE_API_SECRET)\n",
    "twm.start()\n",
    "\n",
    "# Starte den BookTicker-Stream für ETHUSDC\n",
    "twm.start_book_ticker_socket(callback=handle_book_ticker, symbol=\"ethusdc\")\n",
    "\n",
    "# WebSocket läuft im Hintergrund → optional hier idle halten\n",
    "import time\n",
    "try:\n",
    "    while True:\n",
    "        time.sleep(1)\n",
    "except KeyboardInterrupt:\n",
    "    print(\"Stopping stream...\")\n",
    "    twm.stop()"
   ]
  },
  {
   "cell_type": "code",
   "execution_count": null,
   "id": "e16c24c1",
   "metadata": {},
   "outputs": [],
   "source": [
    "exchange_info = binance_client.client.get_exchange_info()\n",
    "symbols = exchange_info['symbols']\n",
    "symbols_with_trading_status = [\n",
    "    item['symbol'] for item in exchange_info['symbols'] if item['status'] == 'TRADING'\n",
    "]\n",
    "symbols_with_trading_status\n",
    "#symbols"
   ]
  },
  {
   "cell_type": "code",
   "execution_count": null,
   "id": "9d5a8acc",
   "metadata": {},
   "outputs": [],
   "source": [
    "import pandas as pd\n",
    "import time\n",
    "\n",
    "token_0 = 'ETH'\n",
    "token_1 = 'USDC'\n",
    "\n",
    "columns = ['timestamp', 'symbol', 'type', 'price', 'quantity']\n",
    "df = pd.DataFrame(columns=columns)\n",
    "\n",
    "try:\n",
    "    while True:\n",
    "        for symbol in symbols_with_trading_status:\n",
    "            bids, asks = binance_client.get_order_book(symbol, limit=10)\n",
    "            timestamp = pd.Timestamp.now()\n",
    "            bid_data = pd.DataFrame(\n",
    "                [[timestamp, symbol, 'bid', float(bid[0]), float(bid[1])] for bid in bids],\n",
    "                columns=columns\n",
    "            )\n",
    "            ask_data = pd.DataFrame(\n",
    "                [[timestamp, symbol, 'ask', float(ask[0]), float(ask[1])] for ask in asks],\n",
    "                columns=columns\n",
    "            )\n",
    "            df = pd.concat([df, bid_data, ask_data], ignore_index=True)\n",
    "        time.sleep(0.75)\n",
    "except KeyboardInterrupt:\n",
    "    print(\"Data collection stopped.\")"
   ]
  },
  {
   "cell_type": "code",
   "execution_count": null,
   "id": "5bdb088e",
   "metadata": {},
   "outputs": [],
   "source": [
    "df.timestamp.unique()"
   ]
  },
  {
   "cell_type": "code",
   "execution_count": null,
   "id": "bfda6c18",
   "metadata": {},
   "outputs": [],
   "source": [
    "df[df.symbol==\"ETHBTC\"]"
   ]
  },
  {
   "cell_type": "code",
   "execution_count": null,
   "id": "6be296dc",
   "metadata": {},
   "outputs": [],
   "source": [
    "from IPython.display import display, HTML\n",
    "\n",
    "display(HTML(df.to_html(notebook=True, max_rows=None, max_cols=None)))"
   ]
  },
  {
   "cell_type": "markdown",
   "id": "b69fdc40",
   "metadata": {},
   "source": [
    "Next, use SBE Market data for lower latency: https://developers.binance.com/docs/binance-spot-api-docs/sbe-market-data-streams"
   ]
  },
  {
   "cell_type": "markdown",
   "id": "2af4a803",
   "metadata": {},
   "source": [
    "# Unichain"
   ]
  },
  {
   "cell_type": "code",
   "execution_count": null,
   "id": "8367716a",
   "metadata": {},
   "outputs": [],
   "source": [
    "from src.uniswap.v2_client import UniswapV2Client\n",
    "from src.config import UNICHAIN_WETH, UNICHAIN_USDC\n",
    "\n",
    "uniswap_client = UniswapV2Client()\n",
    "\n",
    "uniswap_client.get_amounts_out(UNICHAIN_WETH, UNICHAIN_USDC)"
   ]
  },
  {
   "cell_type": "code",
   "execution_count": null,
   "id": "ed89b540",
   "metadata": {},
   "outputs": [],
   "source": [
    "import os\n",
    "import sys\n",
    "sys.path.append(os.path.abspath(\"..\")) # set working dir\n",
    "\n",
    "from src.utils.retrieveAbi import save_abi_to_file, load_abi\n",
    "from src.config import (\n",
    "    UNICHAIN_UNIVERSAL_ROUTER_V2_ADDRESS, CHAINID_UNICHAIN,\n",
    "    UNICHAIN_UNISWAP_V2_ROUTER_02, UNICHAIN_WETH, UNICHAIN_USDC,\n",
    "    ALCHEMY_UNICHAIN_BASE_RPC_URL)\n",
    "\n",
    "save_abi_to_file(UNICHAIN_UNIVERSAL_ROUTER_V2_ADDRESS, chain_id=CHAINID_UNICHAIN)\n",
    "save_abi_to_file(UNICHAIN_UNISWAP_V2_ROUTER_02, chain_id=CHAINID_UNICHAIN)"
   ]
  },
  {
   "cell_type": "code",
   "execution_count": null,
   "id": "cbe16a4f",
   "metadata": {},
   "outputs": [],
   "source": [
    "WETH_AMOUNT_IN = 0.01\n",
    "USDC_AMOUNT_IN = 38\n",
    "weth_wei_amount_in = w3.to_wei(WETH_AMOUNT_IN, \"ether\")\n",
    "usdc_amounts_in = USDC_AMOUNT_IN * 10 ** 6 # USDC has 6 decimals\n",
    "\n",
    "router_address = Web3.to_checksum_address(UNICHAIN_UNISWAP_V2_ROUTER_02)\n",
    "router_abi = load_abi(router_address, CHAINID_UNICHAIN)\n",
    "router_contract = w3.eth.contract(address=router_address, abi=router_abi)\n",
    "\n",
    "alchemy_rpc_url = f\"{ALCHEMY_UNICHAIN_BASE_RPC_URL}{ALCHEMY_API_KEY}\"\n",
    "w3 = Web3(Web3.HTTPProvider(alchemy_rpc_url))\n",
    "print(w3.is_connected()) # check connection\n",
    "latest_block = w3.eth.get_block(\"latest\")\n",
    "print(latest_block.number) # latest block number"
   ]
  },
  {
   "cell_type": "code",
   "execution_count": null,
   "id": "49c154b1",
   "metadata": {},
   "outputs": [],
   "source": [
    "amounts_out = router_contract.functions.getAmountsOut(weth_wei_amount_in, [UNICHAIN_WETH, UNICHAIN_USDC]).call()\n",
    "print(f\"Input Amount (WETH): {WETH_AMOUNT_IN} WETH\")\n",
    "print(f\"Output Amount (USDC): {amounts_out[-1] / (10 ** 6)} USDC\")  # USDC has 6 decimals\n",
    "print(f\"----\")\n",
    "amounts_out_reverse = router_contract.functions.getAmountsOut(usdc_amounts_in, [UNICHAIN_USDC, UNICHAIN_WETH]).call()\n",
    "print(f\"Input Amount (USDC): {USDC_AMOUNT_IN} USDC\")\n",
    "print(f\"Output Amount (WETH): {w3.from_wei(amounts_out_reverse[-1], \"ether\")} WETH \")  # USDC has 6 decimals"
   ]
  },
  {
   "cell_type": "markdown",
   "id": "e7b20cb5",
   "metadata": {},
   "source": [
    "Next, we can either do:\n",
    "- arbitrage between Uniswap v2 and Binance \n"
   ]
  },
  {
   "cell_type": "code",
   "execution_count": null,
   "id": "68a936e8",
   "metadata": {},
   "outputs": [],
   "source": []
  },
  {
   "cell_type": "markdown",
   "id": "e35b3b21",
   "metadata": {},
   "source": [
    "- arbitrage between Uniswap v2 and v4 pools"
   ]
  },
  {
   "cell_type": "code",
   "execution_count": null,
   "id": "afe9e598",
   "metadata": {},
   "outputs": [],
   "source": []
  },
  {
   "cell_type": "markdown",
   "id": "b31b6814",
   "metadata": {},
   "source": []
  }
 ],
 "metadata": {
  "kernelspec": {
   "display_name": ".venv (3.12.3)",
   "language": "python",
   "name": "python3"
  },
  "language_info": {
   "codemirror_mode": {
    "name": "ipython",
    "version": 3
   },
   "file_extension": ".py",
   "mimetype": "text/x-python",
   "name": "python",
   "nbconvert_exporter": "python",
   "pygments_lexer": "ipython3",
   "version": "3.12.3"
  }
 },
 "nbformat": 4,
 "nbformat_minor": 5
}
